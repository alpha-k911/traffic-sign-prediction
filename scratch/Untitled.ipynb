{
 "cells": [
  {
   "cell_type": "code",
   "execution_count": 120,
   "metadata": {},
   "outputs": [],
   "source": [
    "import cv2\n",
    "from matplotlib import pyplot as plt\n",
    "import os\n",
    "import numpy as np\n",
    "import keras\n",
    "import tensorflow as tf\n",
    "import glob\n",
    "\n",
    "classes = 17\n",
    "\n",
    "def get_im(path):\n",
    "    # Load as grayscale\n",
    "    img = cv2.imread(path, 0)\n",
    "    return img\n",
    "\n",
    "# to show image\n",
    "def show_img(img):\n",
    "    plt.imshow(img, cmap = 'gray', interpolation = 'bicubic')\n",
    "    plt.show()\n",
    "\n",
    "def load_train():\n",
    "    X_train = []\n",
    "    y_train = []\n",
    "    p = \"/root/alpha/git/mine/tensor/dataset/train\"\n",
    "    for j in range(1,classes):\n",
    "        path = os.path.join(p , str(j)+\"/*\")\n",
    "        files = glob.glob(path)\n",
    "        for fl in files:\n",
    "            img = get_im(fl)\n",
    "            X_train.append(img)\n",
    "            y_train.append(j-1)\n",
    "\n",
    "    return X_train, y_train\n",
    "\n",
    "def load_test():\n",
    "    X_train = []\n",
    "    y_train = []\n",
    "    p = \"/root/alpha/git/mine/tensor/dataset/test\"\n",
    "    for j in range(1,classes):\n",
    "        path = os.path.join(p , str(j)+\"t/*\")\n",
    "        files = glob.glob(path)\n",
    "        for fl in files:\n",
    "            img = get_im(fl)\n",
    "            X_train.append(img)\n",
    "            y_train.append(j-1)\n",
    "\n",
    "    return X_train, y_train\n",
    "\n",
    "lx,ly = load_train()\n",
    "ltx , lty = load_test()\n",
    "\n",
    "x = np.array(lx)\n",
    "y = np.array(ly)\n",
    "ty = np.array(lty)\n",
    "tx = np.array(ltx)\n",
    "x = x.astype(float) / 255\n",
    "tx = tx.astype(float) / 255"
   ]
  },
  {
   "cell_type": "code",
   "execution_count": 155,
   "metadata": {},
   "outputs": [],
   "source": [
    "def sigmoid(x):\n",
    "    sig = 1.0/(1+ np.exp(-x))\n",
    "#     print(sig)\n",
    "    return sig\n",
    "\n",
    "def sigmoid_derivative(x):\n",
    "    return x * (1.0 - x)"
   ]
  },
  {
   "cell_type": "code",
   "execution_count": 199,
   "metadata": {},
   "outputs": [],
   "source": [
    "inner = 5\n",
    "outer = 16"
   ]
  },
  {
   "cell_type": "code",
   "execution_count": 189,
   "metadata": {},
   "outputs": [],
   "source": [
    "class NeuralNetwork:\n",
    "    def __init__(self, x, y):\n",
    "        self.input  = x\n",
    "        self.w      = np.random.rand(self.input.shape[1],inner) \n",
    "        self.v      = np.random.rand(inner,outer)                 \n",
    "        self.y      = y\n",
    "        self.output = np.zeros(outer)\n",
    "        self.dv = 0\n",
    "        self.dw = 0\n",
    "    def feedforward(self):\n",
    "        self.layer1 = sigmoid(np.dot(self.input,self.w))\n",
    "#         self.layer1 = tf.nn.sigmoid(np.dot(self.input,self.w), name ='sigmoid') \n",
    "        self.output = sigmoid(np.dot(self.layer1,self.v))\n",
    "        \n",
    "    def backPropagation(self):\n",
    "        self.dv = np.dot(self.layer1.T,(self.y-self.output)*sigmoid_derivative(self.output))\n",
    "        self.dw = np.dot(self.input.T,(np.dot(2*(self.y - self.output) * sigmoid_derivative(self.output), self.v.T) * sigmoid_derivative(self.layer1)))\n",
    "        \n",
    "        self.w += self.dw\n",
    "        self.v += self.dv"
   ]
  },
  {
   "cell_type": "code",
   "execution_count": 255,
   "metadata": {},
   "outputs": [
    {
     "data": {
      "text/plain": [
       "(270, 16)"
      ]
     },
     "execution_count": 255,
     "metadata": {},
     "output_type": "execute_result"
    }
   ],
   "source": [
    "nn = NeuralNetwork(inp,arr)\n",
    "np.dot(nn.input,nn.w).shape\n",
    "nn.feedforward()\n",
    "nn.backPropagation()\n",
    "# sigmoid(np.dot(nn.input,nn.w))\n",
    "sigmoid_derivative(nn.output).shape"
   ]
  },
  {
   "cell_type": "code",
   "execution_count": null,
   "metadata": {},
   "outputs": [],
   "source": []
  },
  {
   "cell_type": "code",
   "execution_count": 238,
   "metadata": {},
   "outputs": [
    {
     "data": {
      "text/plain": [
       "array([0.99607843, 0.99607843, 0.99607843, 0.99607843, 0.99607843,\n",
       "       0.99607843, 0.99607843, 0.99607843, 0.99607843, 0.99607843,\n",
       "       0.99215686, 0.99607843, 0.98823529, 0.94901961, 0.87843137,\n",
       "       0.90196078, 0.98431373, 0.99215686, 1.        , 0.99607843,\n",
       "       0.99607843, 1.        , 0.99607843, 0.99607843, 0.99607843,\n",
       "       0.99607843, 0.99607843, 0.99607843, 0.99607843, 0.99607843,\n",
       "       0.99607843, 0.99607843, 0.99607843, 0.99215686, 0.99607843,\n",
       "       0.99607843, 0.99607843, 0.99607843, 0.99607843, 0.99607843,\n",
       "       0.99607843, 0.99215686, 0.96078431, 0.65882353, 0.43137255,\n",
       "       0.49411765, 0.84313725, 0.98431373, 0.99607843, 0.99607843,\n",
       "       0.99607843, 0.99607843, 0.99607843, 0.99607843, 0.99607843,\n",
       "       0.99607843, 0.99607843, 0.99607843, 0.99607843, 0.99607843,\n",
       "       0.99607843, 0.99607843, 0.99607843, 0.99607843, 0.99607843,\n",
       "       0.99607843, 1.        , 0.99607843, 0.99607843, 0.99215686,\n",
       "       0.99215686, 0.96862745, 0.67058824, 0.58431373, 0.81568627,\n",
       "       0.69019608, 0.40784314, 0.83921569, 0.98823529, 0.99215686,\n",
       "       0.99607843, 0.99607843, 0.99607843, 0.99607843, 0.99607843,\n",
       "       0.99607843, 0.99607843, 0.99607843, 0.99607843, 0.99607843,\n",
       "       0.99607843, 0.99607843, 0.99607843, 0.99607843, 0.99607843,\n",
       "       0.99607843, 0.99607843, 0.99607843, 0.98823529, 0.98823529,\n",
       "       0.96862745, 0.70588235, 0.60784314, 0.81568627, 0.8       ,\n",
       "       0.78039216, 0.69803922, 0.35686275, 0.84705882, 0.98823529,\n",
       "       0.99607843, 0.99607843, 0.99607843, 0.99607843, 0.99607843,\n",
       "       0.99607843, 0.99607843, 0.99607843, 0.99607843, 0.99607843,\n",
       "       0.99607843, 0.99607843, 0.99607843, 0.99607843, 0.99607843,\n",
       "       0.99607843, 0.99607843, 0.99607843, 0.98823529, 0.96078431,\n",
       "       0.69019608, 0.61960784, 0.81568627, 0.8       , 0.77647059,\n",
       "       0.77647059, 0.79607843, 0.74117647, 0.36862745, 0.85098039,\n",
       "       0.98431373, 0.99215686, 0.99607843, 0.99607843, 0.99607843,\n",
       "       0.99607843, 0.99607843, 0.99607843, 0.99607843, 0.99607843,\n",
       "       0.99607843, 0.99607843, 0.99607843, 0.99607843, 0.99607843,\n",
       "       0.99607843, 0.99607843, 0.98823529, 0.96078431, 0.66666667,\n",
       "       0.58823529, 0.81568627, 0.76078431, 0.33333333, 0.67058824,\n",
       "       0.79215686, 0.82352941, 0.84313725, 0.76470588, 0.42352941,\n",
       "       0.84705882, 0.98431373, 0.99607843, 0.99607843, 0.99607843,\n",
       "       0.99607843, 0.99607843, 0.99607843, 0.99607843, 0.99607843,\n",
       "       0.99215686, 0.99607843, 0.99607843, 1.        , 0.99607843,\n",
       "       0.99607843, 0.98823529, 0.95294118, 0.65098039, 0.57254902,\n",
       "       0.81960784, 0.8       , 0.44313725, 0.01960784, 0.41568627,\n",
       "       0.81960784, 0.83921569, 0.85882353, 0.83921569, 0.71764706,\n",
       "       0.43529412, 0.83921569, 0.98431373, 0.99215686, 0.99607843,\n",
       "       0.99607843, 0.99607843, 0.99607843, 0.99607843, 0.99607843,\n",
       "       0.99607843, 0.99607843, 0.99607843, 0.99607843, 0.99607843,\n",
       "       0.98823529, 0.95294118, 0.64313725, 0.56470588, 0.81568627,\n",
       "       0.79607843, 0.78039216, 0.74117647, 0.38823529, 0.41960784,\n",
       "       0.74901961, 0.85490196, 0.83921569, 0.81960784, 0.79215686,\n",
       "       0.66666667, 0.44705882, 0.83921569, 0.98039216, 0.99607843,\n",
       "       0.99607843, 0.99607843, 0.99607843, 0.99607843, 0.99607843,\n",
       "       0.99607843, 0.99607843, 0.99607843, 0.99607843, 0.98823529,\n",
       "       0.95294118, 0.65098039, 0.56470588, 0.81568627, 0.79607843,\n",
       "       0.78039216, 0.77647059, 0.79607843, 0.30980392, 0.0745098 ,\n",
       "       0.11764706, 0.41960784, 0.71764706, 0.79215686, 0.77254902,\n",
       "       0.78039216, 0.68235294, 0.47843137, 0.85098039, 0.98431373,\n",
       "       0.98823529, 0.99607843, 0.99607843, 0.99607843, 0.99607843,\n",
       "       0.99607843, 0.99607843, 0.99607843, 0.98823529, 0.96470588,\n",
       "       0.66666667, 0.56862745, 0.81568627, 0.79607843, 0.78039216,\n",
       "       0.77647059, 0.79607843, 0.81176471, 0.14509804, 0.09019608,\n",
       "       0.07058824, 0.10980392, 0.0745098 , 0.66666667, 0.78431373,\n",
       "       0.80392157, 0.82745098, 0.7254902 , 0.48235294, 0.85098039,\n",
       "       0.98431373, 0.99215686, 0.99607843, 0.99607843, 0.99607843,\n",
       "       0.99215686, 0.99607843, 0.99215686, 0.96470588, 0.68627451,\n",
       "       0.58431373, 0.81960784, 0.79607843, 0.78039216, 0.77647059,\n",
       "       0.8       , 0.81960784, 0.56470588, 0.10196078, 0.0745098 ,\n",
       "       0.05098039, 0.23529412, 0.27843137, 0.56862745, 0.80392157,\n",
       "       0.82745098, 0.85098039, 0.85098039, 0.7372549 , 0.41176471,\n",
       "       0.84313725, 0.98823529, 0.98823529, 0.99607843, 0.99607843,\n",
       "       0.99215686, 0.99215686, 0.96862745, 0.70980392, 0.60784314,\n",
       "       0.81176471, 0.79607843, 0.78039216, 0.77647059, 0.8       ,\n",
       "       0.81176471, 0.36078431, 0.09019608, 0.59215686, 0.19215686,\n",
       "       0.02745098, 0.09019608, 0.45098039, 0.49019608, 0.83137255,\n",
       "       0.85098039, 0.85490196, 0.84313725, 0.81960784, 0.72156863,\n",
       "       0.34901961, 0.85098039, 0.98431373, 0.99215686, 0.99607843,\n",
       "       0.99215686, 0.96078431, 0.68627451, 0.59607843, 0.81568627,\n",
       "       0.79607843, 0.78039216, 0.77647059, 0.79607843, 0.81960784,\n",
       "       0.70588235, 0.48235294, 0.75686275, 0.80784314, 0.41568627,\n",
       "       0.00784314, 0.08627451, 0.64313725, 0.4627451 , 0.85098039,\n",
       "       0.85490196, 0.83921569, 0.82352941, 0.80392157, 0.78431373,\n",
       "       0.69411765, 0.34901961, 0.84705882, 0.98431373, 0.99607843,\n",
       "       0.95294118, 0.65882353, 0.57254902, 0.81960784, 0.79607843,\n",
       "       0.78039216, 0.77647059, 0.79607843, 0.81960784, 0.84313725,\n",
       "       0.85882353, 0.84313725, 0.81568627, 0.78823529, 0.16078431,\n",
       "       0.00784314, 0.0627451 , 0.78823529, 0.84705882, 0.85490196,\n",
       "       0.83921569, 0.82352941, 0.80392157, 0.78431373, 0.77254902,\n",
       "       0.76862745, 0.67843137, 0.40392157, 0.83921569, 0.98431373,\n",
       "       0.87843137, 0.43137255, 0.81568627, 0.8       , 0.78039216,\n",
       "       0.77647059, 0.79607843, 0.81960784, 0.84313725, 0.85882353,\n",
       "       0.83921569, 0.81568627, 0.8       , 0.54509804, 0.01960784,\n",
       "       0.0745098 , 0.05490196, 0.51764706, 0.85490196, 0.83529412,\n",
       "       0.82745098, 0.80392157, 0.78823529, 0.77647059, 0.76862745,\n",
       "       0.76862745, 0.77254902, 0.6       , 0.58823529, 0.93333333,\n",
       "       0.90196078, 0.48235294, 0.70980392, 0.78039216, 0.77647059,\n",
       "       0.79607843, 0.82352941, 0.84313725, 0.85882353, 0.83921569,\n",
       "       0.81568627, 0.79607843, 0.77254902, 0.20392157, 0.1372549 ,\n",
       "       0.65098039, 0.09411765, 0.22745098, 0.83921569, 0.82352941,\n",
       "       0.80392157, 0.78823529, 0.77254902, 0.76862745, 0.77254902,\n",
       "       0.77254902, 0.77254902, 0.40392157, 0.61568627, 0.93333333,\n",
       "       0.98431373, 0.82745098, 0.38823529, 0.70588235, 0.79607843,\n",
       "       0.81960784, 0.84313725, 0.85490196, 0.84313725, 0.81960784,\n",
       "       0.79215686, 0.77647059, 0.78039216, 0.10588235, 0.48627451,\n",
       "       0.85490196, 0.38039216, 0.11372549, 0.81568627, 0.80392157,\n",
       "       0.78823529, 0.77647059, 0.76862745, 0.77254902, 0.77647059,\n",
       "       0.76078431, 0.39607843, 0.60784314, 0.85098039, 0.98431373,\n",
       "       0.99215686, 0.98431373, 0.82745098, 0.3372549 , 0.75686275,\n",
       "       0.48235294, 0.38039216, 0.36862745, 0.35294118, 0.33333333,\n",
       "       0.3254902 , 0.3254902 , 0.56078431, 0.0627451 , 0.46666667,\n",
       "       0.38431373, 0.48627451, 0.05490196, 0.5372549 , 0.33333333,\n",
       "       0.32156863, 0.31764706, 0.31764706, 0.34901961, 0.7372549 ,\n",
       "       0.39607843, 0.62745098, 0.85882353, 0.98823529, 0.99607843,\n",
       "       0.99607843, 0.99607843, 0.98823529, 0.83137255, 0.34117647,\n",
       "       0.79215686, 0.84313725, 0.81960784, 0.79607843, 0.77647059,\n",
       "       0.78431373, 0.79607843, 0.5254902 , 0.15686275, 0.84705882,\n",
       "       0.84313725, 0.82745098, 0.19607843, 0.16470588, 0.76862745,\n",
       "       0.77254902, 0.77254902, 0.77254902, 0.76470588, 0.39215686,\n",
       "       0.63921569, 0.8745098 , 0.98431373, 0.99607843, 0.99607843,\n",
       "       0.99607843, 0.99607843, 0.99607843, 0.98823529, 0.82745098,\n",
       "       0.40392157, 0.7372549 , 0.79607843, 0.77647059, 0.78039216,\n",
       "       0.8       , 0.82352941, 0.49803922, 0.48627451, 0.83921569,\n",
       "       0.82745098, 0.80784314, 0.63921569, 0.21568627, 0.76078431,\n",
       "       0.76862745, 0.77254902, 0.76862745, 0.41176471, 0.61176471,\n",
       "       0.86666667, 0.98823529, 0.99607843, 0.99215686, 0.99607843,\n",
       "       0.99607843, 0.99607843, 0.99607843, 0.99607843, 0.98431373,\n",
       "       0.82745098, 0.42745098, 0.68627451, 0.78039216, 0.8       ,\n",
       "       0.82352941, 0.84705882, 0.85490196, 0.83529412, 0.82352941,\n",
       "       0.80392157, 0.78823529, 0.76470588, 0.76078431, 0.77254902,\n",
       "       0.77254902, 0.77254902, 0.42745098, 0.6       , 0.85490196,\n",
       "       0.99215686, 0.99607843, 0.99607843, 0.99607843, 0.99607843,\n",
       "       0.99607843, 0.99607843, 0.99607843, 0.99607843, 0.99215686,\n",
       "       0.98431373, 0.81960784, 0.43137255, 0.70980392, 0.58431373,\n",
       "       0.47843137, 0.48235294, 0.47058824, 0.45098039, 0.43529412,\n",
       "       0.42352941, 0.41568627, 0.41176471, 0.41568627, 0.42352941,\n",
       "       0.74509804, 0.42745098, 0.59215686, 0.85490196, 0.99215686,\n",
       "       0.99607843, 0.99607843, 0.99607843, 0.99607843, 0.99607843,\n",
       "       0.99607843, 0.99607843, 0.99607843, 0.99607843, 0.99607843,\n",
       "       0.99607843, 0.98431373, 0.82352941, 0.4627451 , 0.75294118,\n",
       "       0.85490196, 0.84313725, 0.83137255, 0.80392157, 0.78823529,\n",
       "       0.77254902, 0.76862745, 0.77254902, 0.77254902, 0.76862745,\n",
       "       0.42745098, 0.58823529, 0.85098039, 0.98431373, 0.99215686,\n",
       "       0.99607843, 0.99607843, 0.99607843, 0.99607843, 0.99607843,\n",
       "       0.99607843, 0.99607843, 0.99607843, 0.99607843, 0.99607843,\n",
       "       0.99607843, 0.99607843, 0.98039216, 0.83921569, 0.4627451 ,\n",
       "       0.76470588, 0.82352941, 0.80784314, 0.79215686, 0.77254902,\n",
       "       0.77254902, 0.77254902, 0.77254902, 0.76470588, 0.41568627,\n",
       "       0.6       , 0.84705882, 0.98823529, 0.99215686, 0.99607843,\n",
       "       1.        , 0.99607843, 0.99607843, 0.99607843, 0.99607843,\n",
       "       0.99607843, 0.99607843, 0.99607843, 0.99607843, 0.99607843,\n",
       "       0.99607843, 0.99607843, 0.99607843, 0.98431373, 0.82745098,\n",
       "       0.38039216, 0.74117647, 0.78823529, 0.77254902, 0.77254902,\n",
       "       0.77254902, 0.77647059, 0.75686275, 0.38823529, 0.61568627,\n",
       "       0.85882353, 0.98431373, 0.99607843, 0.99607843, 0.99607843,\n",
       "       0.99607843, 0.99607843, 0.99607843, 0.99607843, 0.99607843,\n",
       "       0.99607843, 0.99607843, 0.99607843, 0.99607843, 0.99607843,\n",
       "       0.99607843, 0.99607843, 0.99607843, 0.99215686, 0.98431373,\n",
       "       0.82352941, 0.30196078, 0.71372549, 0.76862745, 0.76862745,\n",
       "       0.77647059, 0.76078431, 0.40392157, 0.63921569, 0.87058824,\n",
       "       0.98431373, 0.99215686, 0.99607843, 0.99607843, 0.99607843,\n",
       "       0.99607843, 0.99607843, 0.99607843, 0.99607843, 0.99607843,\n",
       "       0.99607843, 0.99607843, 0.99607843, 0.99607843, 0.99607843,\n",
       "       0.99607843, 0.99607843, 0.99607843, 0.99607843, 0.99607843,\n",
       "       0.98431373, 0.81568627, 0.30980392, 0.70588235, 0.77254902,\n",
       "       0.76862745, 0.4       , 0.62745098, 0.86666667, 0.98823529,\n",
       "       0.99607843, 0.99607843, 0.99607843, 0.99215686, 0.99607843,\n",
       "       0.99607843, 0.99607843, 0.99607843, 0.99607843, 0.99607843,\n",
       "       0.99607843, 0.99607843, 0.99607843, 0.99607843, 0.99607843,\n",
       "       0.99607843, 0.99607843, 0.99607843, 0.99607843, 0.99607843,\n",
       "       0.99215686, 0.98431373, 0.81568627, 0.38039216, 0.65098039,\n",
       "       0.41568627, 0.60784314, 0.8627451 , 0.98431373, 0.99607843,\n",
       "       0.99607843, 0.99607843, 0.99607843, 0.99215686, 0.99607843,\n",
       "       0.99607843, 0.99607843, 0.99607843, 0.99607843, 0.99607843,\n",
       "       0.99607843, 0.99607843, 0.99607843, 0.99607843, 0.99607843,\n",
       "       0.99607843, 0.99607843, 0.99607843, 0.99607843, 0.99607843,\n",
       "       0.99607843, 0.99607843, 0.98431373, 0.81568627, 0.58039216,\n",
       "       0.60784314, 0.85490196, 0.98823529, 0.99607843, 0.99215686,\n",
       "       0.99607843, 0.99607843, 0.99607843, 0.99607843, 0.99607843,\n",
       "       0.99607843, 0.99607843, 0.99607843, 0.99607843, 0.99607843,\n",
       "       0.99607843, 0.99607843, 0.99607843, 0.99607843, 0.99607843,\n",
       "       0.99607843, 0.99607843, 0.99607843, 0.99607843, 0.99607843,\n",
       "       0.99607843, 0.99607843, 0.99215686, 0.98431373, 0.91764706,\n",
       "       0.92156863, 0.98431373, 0.99607843, 0.99607843, 0.99607843,\n",
       "       0.99607843, 0.99607843, 0.99607843, 0.99607843, 0.99607843,\n",
       "       0.99607843, 0.99607843, 0.99607843, 0.99607843, 0.99607843])"
      ]
     },
     "execution_count": 238,
     "metadata": {},
     "output_type": "execute_result"
    }
   ],
   "source": [
    "inp = np.reshape(x,(270,900))\n",
    "inp[2]"
   ]
  },
  {
   "cell_type": "code",
   "execution_count": 237,
   "metadata": {},
   "outputs": [
    {
     "data": {
      "image/png": "[encoded data removed]",
      "text/plain": [
       "<Figure size 432x288 with 2 Axes>"
      ]
     },
     "metadata": {
      "needs_background": "light"
     },
     "output_type": "display_data"
    }
   ],
   "source": [
    "tx.shape\n",
    "plt.figure()\n",
    "plt.imshow(np.reshape(inp[15],(30,30)))\n",
    "plt.colorbar()\n",
    "plt.grid(False)\n",
    "plt.show()"
   ]
  },
  {
   "cell_type": "code",
   "execution_count": 227,
   "metadata": {},
   "outputs": [
    {
     "data": {
      "text/plain": [
       "array([ 0,  0,  0,  0,  0,  0,  0,  0,  0,  0,  0,  0,  0,  0,  0,  0,  0,\n",
       "        0,  1,  1,  1,  1,  1,  1,  1,  1,  1,  1,  1,  1,  1,  1,  1,  1,\n",
       "        2,  2,  2,  2,  2,  2,  2,  2,  2,  2,  2,  2,  2,  2,  2,  2,  2,\n",
       "        2,  3,  3,  3,  3,  3,  3,  3,  3,  3,  3,  3,  3,  3,  3,  4,  4,\n",
       "        4,  4,  4,  4,  4,  4,  4,  4,  4,  4,  4,  4,  4,  5,  5,  5,  5,\n",
       "        5,  5,  5,  5,  5,  5,  5,  5,  5,  5,  5,  5,  5,  5,  5,  5,  5,\n",
       "        5,  5,  6,  6,  6,  6,  6,  6,  6,  6,  6,  6,  6,  6,  6,  6,  6,\n",
       "        6,  6,  7,  7,  7,  7,  7,  7,  7,  7,  7,  7,  7,  7,  7,  7,  7,\n",
       "        7,  7,  7,  7,  7,  7,  7,  8,  8,  8,  8,  8,  8,  8,  8,  8,  8,\n",
       "        8,  8,  8,  8,  8,  9,  9,  9,  9,  9,  9,  9,  9,  9,  9,  9,  9,\n",
       "        9,  9,  9,  9,  9, 10, 10, 10, 10, 10, 10, 10, 10, 10, 10, 10, 10,\n",
       "       10, 10, 10, 11, 11, 11, 11, 11, 11, 11, 11, 11, 11, 11, 11, 11, 11,\n",
       "       11, 11, 11, 11, 11, 11, 12, 12, 12, 12, 12, 12, 12, 12, 12, 12, 12,\n",
       "       12, 12, 12, 12, 12, 12, 13, 13, 13, 13, 13, 13, 13, 13, 13, 13, 13,\n",
       "       13, 13, 13, 14, 14, 14, 14, 14, 14, 14, 14, 14, 14, 14, 14, 14, 15,\n",
       "       15, 15, 15, 15, 15, 15, 15, 15, 15, 15, 15, 15, 15, 15, 15])"
      ]
     },
     "execution_count": 227,
     "metadata": {},
     "output_type": "execute_result"
    }
   ],
   "source": [
    "y"
   ]
  },
  {
   "cell_type": "code",
   "execution_count": 92,
   "metadata": {
    "scrolled": true
   },
   "outputs": [],
   "source": [
    "arr = np.empty((0,16), float)\n",
    "for i in range(270):\n",
    "    k = np.zeros(16)\n",
    "    k = np.reshape(k,(1,16))\n",
    "    k[0][y[i]] = 1\n",
    "#     print(k)\n",
    "    arr = np.append(arr, k, axis=0)\n",
    "    "
   ]
  },
  {
   "cell_type": "code",
   "execution_count": 93,
   "metadata": {},
   "outputs": [
    {
     "data": {
      "text/plain": [
       "array([0., 0., 0., 0., 0., 0., 0., 0., 0., 1., 0., 0., 0., 0., 0., 0.])"
      ]
     },
     "execution_count": 93,
     "metadata": {},
     "output_type": "execute_result"
    }
   ],
   "source": [
    "arr[160]"
   ]
  },
  {
   "cell_type": "code",
   "execution_count": 171,
   "metadata": {},
   "outputs": [
    {
     "name": "stdout",
     "output_type": "stream",
     "text": [
      "Epoch: 0\n"
     ]
    },
    {
     "data": {
      "text/plain": [
       "array([[0.85971234, 0.77714826, 0.93909373, ..., 0.96609264, 0.96625029,\n",
       "        0.8780415 ],\n",
       "       [0.85971234, 0.77714826, 0.93909373, ..., 0.96609264, 0.96625029,\n",
       "        0.8780415 ],\n",
       "       [0.85971234, 0.77714826, 0.93909373, ..., 0.96609264, 0.96625029,\n",
       "        0.8780415 ],\n",
       "       ...,\n",
       "       [0.85971234, 0.77714826, 0.93909373, ..., 0.96609264, 0.96625029,\n",
       "        0.8780415 ],\n",
       "       [0.85971234, 0.77714826, 0.93909373, ..., 0.96609264, 0.96625029,\n",
       "        0.8780415 ],\n",
       "       [0.85971234, 0.77714826, 0.93909373, ..., 0.96609264, 0.96625029,\n",
       "        0.8780415 ]])"
      ]
     },
     "execution_count": 171,
     "metadata": {},
     "output_type": "execute_result"
    }
   ],
   "source": [
    "nn = NeuralNetwork(inp,arr)\n",
    "\n",
    "for i in range(1):\n",
    "    print(\"Epoch: \"+str(i))\n",
    "    nn.feedforward()\n",
    "    nn.backPropagation()\n",
    "#     print(nn.dw)\n",
    "#     print(nn.dv)\n",
    "\n",
    "nn.output"
   ]
  },
  {
   "cell_type": "code",
   "execution_count": 265,
   "metadata": {
    "scrolled": false
   },
   "outputs": [
    {
     "data": {
      "text/plain": [
       "array([[0.01084954, 0.01067893, 0.0101161 , 0.00959802, 0.00995365,\n",
       "        0.01094447, 0.01025066, 0.00993572, 0.01055877, 0.01018769,\n",
       "        0.00953612, 0.00917363, 0.0111585 , 0.01085908, 0.01021209,\n",
       "        0.0093515 ],\n",
       "       [0.98535397, 0.98530893, 0.9852185 , 0.98534547, 0.98545905,\n",
       "        0.9857668 , 0.9849459 , 0.98572953, 0.98514174, 0.98555147,\n",
       "        0.98533525, 0.9848729 , 0.98576046, 0.98565126, 0.98539772,\n",
       "        0.98517862],\n",
       "       [0.98759971, 0.98761806, 0.9874765 , 0.98769491, 0.98746135,\n",
       "        0.98796195, 0.98712175, 0.98790971, 0.98729987, 0.98759049,\n",
       "        0.98743808, 0.9869902 , 0.98776462, 0.98785278, 0.98760594,\n",
       "        0.9872601 ],\n",
       "       [0.01542359, 0.01565073, 0.01603368, 0.0159833 , 0.01574457,\n",
       "        0.01490773, 0.01619153, 0.01549017, 0.01582712, 0.01567145,\n",
       "        0.01610232, 0.01677778, 0.01501096, 0.01522716, 0.01564869,\n",
       "        0.01637519]])"
      ]
     },
     "execution_count": 265,
     "metadata": {},
     "output_type": "execute_result"
    }
   ],
   "source": [
    "X = np.array([[0,0,1],\n",
    "                  [0,1,1],\n",
    "                  [1,0,1],\n",
    "                  [1,1,1]])\n",
    "Y = np.array([[0],[1],[1],[0]])\n",
    "nn = NeuralNetwork(X,Y)\n",
    "\n",
    "for i in range(1500):\n",
    "    nn.feedforward()\n",
    "    nn.backPropagation()\n",
    "\n",
    "\n",
    "nn.output"
   ]
  },
  {
   "cell_type": "code",
   "execution_count": 25,
   "metadata": {
    "scrolled": true
   },
   "outputs": [
    {
     "data": {
      "text/plain": [
       "(2, 3, 2)"
      ]
     },
     "execution_count": 25,
     "metadata": {},
     "output_type": "execute_result"
    }
   ],
   "source": [
    "k = np.array([[[0, 1],[2, 3],[4, 5]],\n",
    "             [[0, 1],[2, 3],[4, 5]]])\n",
    "k.shape"
   ]
  },
  {
   "cell_type": "code",
   "execution_count": 26,
   "metadata": {},
   "outputs": [
    {
     "data": {
      "text/plain": [
       "array([[[0, 1, 2, 3, 4, 5]],\n",
       "\n",
       "       [[0, 1, 2, 3, 4, 5]]])"
      ]
     },
     "execution_count": 26,
     "metadata": {},
     "output_type": "execute_result"
    }
   ],
   "source": [
    "np.reshape(k,(2,1,6))"
   ]
  },
  {
   "cell_type": "code",
   "execution_count": 10,
   "metadata": {},
   "outputs": [],
   "source": [
    "a = NeuralNetwork(5,10)"
   ]
  },
  {
   "cell_type": "code",
   "execution_count": 20,
   "metadata": {},
   "outputs": [],
   "source": [
    "input = np.array([[1,2,3],[2,1,3]])"
   ]
  },
  {
   "cell_type": "code",
   "execution_count": 31,
   "metadata": {},
   "outputs": [
    {
     "data": {
      "text/plain": [
       "(2, 3)"
      ]
     },
     "execution_count": 31,
     "metadata": {},
     "output_type": "execute_result"
    }
   ],
   "source": [
    "input.shape"
   ]
  },
  {
   "cell_type": "code",
   "execution_count": 40,
   "metadata": {},
   "outputs": [],
   "source": [
    "w = np.random.rand(3,2)"
   ]
  },
  {
   "cell_type": "code",
   "execution_count": 46,
   "metadata": {},
   "outputs": [],
   "source": [
    "w = np.array([[1,0],[0,1],[1,1]])"
   ]
  },
  {
   "cell_type": "code",
   "execution_count": 47,
   "metadata": {},
   "outputs": [
    {
     "data": {
      "text/plain": [
       "array([[1, 0],\n",
       "       [0, 1],\n",
       "       [1, 1]])"
      ]
     },
     "execution_count": 47,
     "metadata": {},
     "output_type": "execute_result"
    }
   ],
   "source": [
    "w"
   ]
  },
  {
   "cell_type": "code",
   "execution_count": 66,
   "metadata": {},
   "outputs": [
    {
     "data": {
      "text/plain": [
       "array([[4, 5],\n",
       "       [5, 4]])"
      ]
     },
     "execution_count": 66,
     "metadata": {},
     "output_type": "execute_result"
    }
   ],
   "source": [
    "l1"
   ]
  },
  {
   "cell_type": "code",
   "execution_count": 59,
   "metadata": {},
   "outputs": [],
   "source": [
    "l1 = np.dot(input,w)"
   ]
  },
  {
   "cell_type": "code",
   "execution_count": 71,
   "metadata": {},
   "outputs": [
    {
     "data": {
      "text/plain": [
       "array([14, 13])"
      ]
     },
     "execution_count": 71,
     "metadata": {},
     "output_type": "execute_result"
    }
   ],
   "source": [
    "np.dot(l1.T,[1,2])"
   ]
  },
  {
   "cell_type": "code",
   "execution_count": 65,
   "metadata": {},
   "outputs": [
    {
     "data": {
      "text/plain": [
       "array([[20, 25],\n",
       "       [25, 20]])"
      ]
     },
     "execution_count": 65,
     "metadata": {},
     "output_type": "execute_result"
    }
   ],
   "source": [
    "d"
   ]
  },
  {
   "cell_type": "code",
   "execution_count": 57,
   "metadata": {},
   "outputs": [
    {
     "data": {
      "text/plain": [
       "array([[37, 40,  4],\n",
       "       [37, 40,  4]])"
      ]
     },
     "execution_count": 57,
     "metadata": {},
     "output_type": "execute_result"
    }
   ],
   "source": [
    "a = np.array([[1,2],[1,2]]) \n",
    "b = np.array([[11,12,2],[13,14,1]]) \n",
    "np.dot(a,b)"
   ]
  }
 ],
 "metadata": {
  "kernelspec": {
   "display_name": "Python 3",
   "language": "python",
   "name": "python3"
  },
  "language_info": {
   "codemirror_mode": {
    "name": "ipython",
    "version": 3
   },
   "file_extension": ".py",
   "mimetype": "text/x-python",
   "name": "python",
   "nbconvert_exporter": "python",
   "pygments_lexer": "ipython3",
   "version": "3.7.3"
  }
 },
 "nbformat": 4,
 "nbformat_minor": 2
}
