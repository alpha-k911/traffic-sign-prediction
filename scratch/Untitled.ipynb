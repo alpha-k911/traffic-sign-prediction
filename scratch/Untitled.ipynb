{
 "cells": [
  {
   "cell_type": "code",
   "execution_count": 120,
   "metadata": {},
   "outputs": [],
   "source": [
    "import cv2\n",
    "from matplotlib import pyplot as plt\n",
    "import os\n",
    "import numpy as np\n",
    "import keras\n",
    "import tensorflow as tf\n",
    "import glob\n",
    "\n",
    "classes = 17\n",
    "\n",
    "def get_im(path):\n",
    "    # Load as grayscale\n",
    "    img = cv2.imread(path, 0)\n",
    "    return img\n",
    "\n",
    "# to show image\n",
    "def show_img(img):\n",
    "    plt.imshow(img, cmap = 'gray', interpolation = 'bicubic')\n",
    "    plt.show()\n",
    "\n",
    "def load_train():\n",
    "    X_train = []\n",
    "    y_train = []\n",
    "    p = \"/root/alpha/git/mine/tensor/dataset/train\"\n",
    "    for j in range(1,classes):\n",
    "        path = os.path.join(p , str(j)+\"/*\")\n",
    "        files = glob.glob(path)\n",
    "        for fl in files:\n",
    "            img = get_im(fl)\n",
    "            X_train.append(img)\n",
    "            y_train.append(j-1)\n",
    "\n",
    "    return X_train, y_train\n",
    "\n",
    "def load_test():\n",
    "    X_train = []\n",
    "    y_train = []\n",
    "    p = \"/root/alpha/git/mine/tensor/dataset/test\"\n",
    "    for j in range(1,classes):\n",
    "        path = os.path.join(p , str(j)+\"t/*\")\n",
    "        files = glob.glob(path)\n",
    "        for fl in files:\n",
    "            img = get_im(fl)\n",
    "            X_train.append(img)\n",
    "            y_train.append(j-1)\n",
    "\n",
    "    return X_train, y_train\n",
    "\n",
    "lx,ly = load_train()\n",
    "ltx , lty = load_test()\n",
    "\n",
    "x = np.array(lx)\n",
    "y = np.array(ly)\n",
    "ty = np.array(lty)\n",
    "tx = np.array(ltx)\n",
    "x = x.astype(float) / 255\n",
    "tx = tx.astype(float) / 255"
   ]
  },
  {
   "cell_type": "code",
   "execution_count": 111,
   "metadata": {},
   "outputs": [],
   "source": [
    "def sigmoid(x):\n",
    "    sig = 1.0/(1+ np.exp(-x))\n",
    "    print(sig)\n",
    "    return sig\n",
    "\n",
    "def sigmoid_derivative(x):\n",
    "    return x * (1.0 - x)"
   ]
  },
  {
   "cell_type": "code",
   "execution_count": 136,
   "metadata": {},
   "outputs": [],
   "source": [
    "inner = 1000\n",
    "outer = 16"
   ]
  },
  {
   "cell_type": "code",
   "execution_count": 98,
   "metadata": {},
   "outputs": [],
   "source": [
    "class NeuralNetwork:\n",
    "    def __init__(self, x, y):\n",
    "        self.input  = x\n",
    "        self.w      = np.random.rand(self.input.shape[1],inner) \n",
    "        self.v      = np.random.rand(inner,outer)                 \n",
    "        self.y      = y\n",
    "        self.output = np.zeros(outer)\n",
    "    def feedforward(self):\n",
    "        self.layer1 = sigmoid(np.dot(self.input,self.w))\n",
    "        self.output = sigmoid(np.dot(self.layer1,self.v))\n",
    "        \n",
    "    def backPropagation(self):\n",
    "        self.dv = np.dot(self.layer1.T,(self.y-self.output)*sigmoid_derivative(self.output))\n",
    "        self.dw = np.dot(self.input.T,(np.dot(2*(self.y - self.output) * sigmoid_derivative(self.output), self.v.T) * sigmoid_derivative(self.layer1)))\n",
    "        \n",
    "        self.w += self.dw\n",
    "        self.v += self.dv"
   ]
  },
  {
   "cell_type": "code",
   "execution_count": 141,
   "metadata": {},
   "outputs": [
    {
     "data": {
      "text/plain": [
       "(900, 1000)"
      ]
     },
     "execution_count": 141,
     "metadata": {},
     "output_type": "execute_result"
    }
   ],
   "source": [
    "nn = NeuralNetwork(inp,arr)\n",
    "np.dot(nn.input,nn.w)\n",
    "# sigmoid(np.dot(nn.input,nn.w))\n",
    "nn.w.shape"
   ]
  },
  {
   "cell_type": "code",
   "execution_count": 121,
   "metadata": {},
   "outputs": [
    {
     "data": {
      "text/plain": [
       "(270, 900)"
      ]
     },
     "execution_count": 121,
     "metadata": {},
     "output_type": "execute_result"
    }
   ],
   "source": [
    "inp = np.reshape(x,(270,900))\n",
    "inp.shape"
   ]
  },
  {
   "cell_type": "code",
   "execution_count": 92,
   "metadata": {
    "scrolled": true
   },
   "outputs": [],
   "source": [
    "arr = np.empty((0,16), float)\n",
    "for i in range(270):\n",
    "    k = np.zeros(16)\n",
    "    k = np.reshape(k,(1,16))\n",
    "    k[0][y[i]] = 1\n",
    "#     print(k)\n",
    "    arr = np.append(arr, k, axis=0)\n",
    "    "
   ]
  },
  {
   "cell_type": "code",
   "execution_count": 93,
   "metadata": {},
   "outputs": [
    {
     "data": {
      "text/plain": [
       "array([0., 0., 0., 0., 0., 0., 0., 0., 0., 1., 0., 0., 0., 0., 0., 0.])"
      ]
     },
     "execution_count": 93,
     "metadata": {},
     "output_type": "execute_result"
    }
   ],
   "source": [
    "arr[160]"
   ]
  },
  {
   "cell_type": "code",
   "execution_count": 122,
   "metadata": {},
   "outputs": [
    {
     "name": "stdout",
     "output_type": "stream",
     "text": [
      "Epoch: 0\n",
      "[[1. 1. 1. ... 1. 1. 1.]\n",
      " [1. 1. 1. ... 1. 1. 1.]\n",
      " [1. 1. 1. ... 1. 1. 1.]\n",
      " ...\n",
      " [1. 1. 1. ... 1. 1. 1.]\n",
      " [1. 1. 1. ... 1. 1. 1.]\n",
      " [1. 1. 1. ... 1. 1. 1.]]\n",
      "[[0.99992499 0.99976843 0.99998781 ... 0.99990682 0.99998244 0.99974825]\n",
      " [0.99992499 0.99976843 0.99998781 ... 0.99990682 0.99998244 0.99974825]\n",
      " [0.99992499 0.99976843 0.99998781 ... 0.99990682 0.99998244 0.99974825]\n",
      " ...\n",
      " [0.99992499 0.99976843 0.99998781 ... 0.99990682 0.99998244 0.99974825]\n",
      " [0.99992499 0.99976843 0.99998781 ... 0.99990682 0.99998244 0.99974825]\n",
      " [0.99992499 0.99976843 0.99998781 ... 0.99990682 0.99998244 0.99974825]]\n",
      "[[-0. -0. -0. ... -0. -0. -0.]\n",
      " [-0. -0. -0. ... -0. -0. -0.]\n",
      " [-0. -0. -0. ... -0. -0. -0.]\n",
      " ...\n",
      " [ 0.  0.  0. ...  0.  0.  0.]\n",
      " [ 0.  0.  0. ...  0.  0.  0.]\n",
      " [ 0.  0.  0. ...  0.  0.  0.]]\n",
      "[[-0.0188988  -0.05879157 -0.00307078 -0.32048922 -0.00197059 -0.12478983\n",
      "  -0.00967246 -0.00499526 -0.01901304 -0.00430561 -0.26428622 -0.01728952\n",
      "  -0.01178361 -0.02385066 -0.00451321 -0.06391074]\n",
      " [-0.0188988  -0.05879157 -0.00307078 -0.32048922 -0.00197059 -0.12478983\n",
      "  -0.00967246 -0.00499526 -0.01901304 -0.00430561 -0.26428622 -0.01728952\n",
      "  -0.01178361 -0.02385066 -0.00451321 -0.06391074]\n",
      " [-0.0188988  -0.05879157 -0.00307078 -0.32048922 -0.00197059 -0.12478983\n",
      "  -0.00967246 -0.00499526 -0.01901304 -0.00430561 -0.26428622 -0.01728952\n",
      "  -0.01178361 -0.02385066 -0.00451321 -0.06391074]\n",
      " [-0.0188988  -0.05879157 -0.00307078 -0.32048922 -0.00197059 -0.12478983\n",
      "  -0.00967246 -0.00499526 -0.01901304 -0.00430561 -0.26428622 -0.01728952\n",
      "  -0.01178361 -0.02385066 -0.00451321 -0.06391074]\n",
      " [-0.0188988  -0.05879157 -0.00307078 -0.32048922 -0.00197059 -0.12478983\n",
      "  -0.00967246 -0.00499526 -0.01901304 -0.00430561 -0.26428622 -0.01728952\n",
      "  -0.01178361 -0.02385066 -0.00451321 -0.06391074]\n",
      " [-0.0188988  -0.05879157 -0.00307078 -0.32048922 -0.00197059 -0.12478983\n",
      "  -0.00967246 -0.00499526 -0.01901304 -0.00430561 -0.26428622 -0.01728952\n",
      "  -0.01178361 -0.02385066 -0.00451321 -0.06391074]\n",
      " [-0.0188988  -0.05879157 -0.00307078 -0.32048922 -0.00197059 -0.12478983\n",
      "  -0.00967246 -0.00499526 -0.01901304 -0.00430561 -0.26428622 -0.01728952\n",
      "  -0.01178361 -0.02385066 -0.00451321 -0.06391074]\n",
      " [-0.0188988  -0.05879157 -0.00307078 -0.32048922 -0.00197059 -0.12478983\n",
      "  -0.00967246 -0.00499526 -0.01901304 -0.00430561 -0.26428622 -0.01728952\n",
      "  -0.01178361 -0.02385066 -0.00451321 -0.06391074]\n",
      " [-0.0188988  -0.05879157 -0.00307078 -0.32048922 -0.00197059 -0.12478983\n",
      "  -0.00967246 -0.00499526 -0.01901304 -0.00430561 -0.26428622 -0.01728952\n",
      "  -0.01178361 -0.02385066 -0.00451321 -0.06391074]\n",
      " [-0.0188988  -0.05879157 -0.00307078 -0.32048922 -0.00197059 -0.12478983\n",
      "  -0.00967246 -0.00499526 -0.01901304 -0.00430561 -0.26428622 -0.01728952\n",
      "  -0.01178361 -0.02385066 -0.00451321 -0.06391074]\n",
      " [-0.0188988  -0.05879157 -0.00307078 -0.32048922 -0.00197059 -0.12478983\n",
      "  -0.00967246 -0.00499526 -0.01901304 -0.00430561 -0.26428622 -0.01728952\n",
      "  -0.01178361 -0.02385066 -0.00451321 -0.06391074]\n",
      " [-0.0188988  -0.05879157 -0.00307078 -0.32048922 -0.00197059 -0.12478983\n",
      "  -0.00967246 -0.00499526 -0.01901304 -0.00430561 -0.26428622 -0.01728952\n",
      "  -0.01178361 -0.02385066 -0.00451321 -0.06391074]\n",
      " [-0.0188988  -0.05879157 -0.00307078 -0.32048922 -0.00197059 -0.12478983\n",
      "  -0.00967246 -0.00499526 -0.01901304 -0.00430561 -0.26428622 -0.01728952\n",
      "  -0.01178361 -0.02385066 -0.00451321 -0.06391074]\n",
      " [-0.0188988  -0.05879157 -0.00307078 -0.32048922 -0.00197059 -0.12478983\n",
      "  -0.00967246 -0.00499526 -0.01901304 -0.00430561 -0.26428622 -0.01728952\n",
      "  -0.01178361 -0.02385066 -0.00451321 -0.06391074]\n",
      " [-0.0188988  -0.05879157 -0.00307078 -0.32048922 -0.00197059 -0.12478983\n",
      "  -0.00967246 -0.00499526 -0.01901304 -0.00430561 -0.26428622 -0.01728952\n",
      "  -0.01178361 -0.02385066 -0.00451321 -0.06391074]\n",
      " [-0.0188988  -0.05879157 -0.00307078 -0.32048922 -0.00197059 -0.12478983\n",
      "  -0.00967246 -0.00499526 -0.01901304 -0.00430561 -0.26428622 -0.01728952\n",
      "  -0.01178361 -0.02385066 -0.00451321 -0.06391074]\n",
      " [-0.0188988  -0.05879157 -0.00307078 -0.32048922 -0.00197059 -0.12478983\n",
      "  -0.00967246 -0.00499526 -0.01901304 -0.00430561 -0.26428622 -0.01728952\n",
      "  -0.01178361 -0.02385066 -0.00451321 -0.06391074]\n",
      " [-0.0188988  -0.05879157 -0.00307078 -0.32048922 -0.00197059 -0.12478983\n",
      "  -0.00967246 -0.00499526 -0.01901304 -0.00430561 -0.26428622 -0.01728952\n",
      "  -0.01178361 -0.02385066 -0.00451321 -0.06391074]\n",
      " [-0.0188988  -0.05879157 -0.00307078 -0.32048922 -0.00197059 -0.12478983\n",
      "  -0.00967246 -0.00499526 -0.01901304 -0.00430561 -0.26428622 -0.01728952\n",
      "  -0.01178361 -0.02385066 -0.00451321 -0.06391074]\n",
      " [-0.0188988  -0.05879157 -0.00307078 -0.32048922 -0.00197059 -0.12478983\n",
      "  -0.00967246 -0.00499526 -0.01901304 -0.00430561 -0.26428622 -0.01728952\n",
      "  -0.01178361 -0.02385066 -0.00451321 -0.06391074]]\n"
     ]
    },
    {
     "data": {
      "text/plain": [
       "array([[0.99992499, 0.99976843, 0.99998781, ..., 0.99990682, 0.99998244,\n",
       "        0.99974825],\n",
       "       [0.99992499, 0.99976843, 0.99998781, ..., 0.99990682, 0.99998244,\n",
       "        0.99974825],\n",
       "       [0.99992499, 0.99976843, 0.99998781, ..., 0.99990682, 0.99998244,\n",
       "        0.99974825],\n",
       "       ...,\n",
       "       [0.99992499, 0.99976843, 0.99998781, ..., 0.99990682, 0.99998244,\n",
       "        0.99974825],\n",
       "       [0.99992499, 0.99976843, 0.99998781, ..., 0.99990682, 0.99998244,\n",
       "        0.99974825],\n",
       "       [0.99992499, 0.99976843, 0.99998781, ..., 0.99990682, 0.99998244,\n",
       "        0.99974825]])"
      ]
     },
     "execution_count": 122,
     "metadata": {},
     "output_type": "execute_result"
    }
   ],
   "source": [
    "nn = NeuralNetwork(inp,arr)\n",
    "\n",
    "for i in range(1):\n",
    "    print(\"Epoch: \"+str(i))\n",
    "    nn.feedforward()\n",
    "    nn.backPropagation()\n",
    "    print(nn.dw)\n",
    "    print(nn.dv)\n",
    "\n",
    "\n",
    "nn.output"
   ]
  },
  {
   "cell_type": "code",
   "execution_count": 265,
   "metadata": {
    "scrolled": false
   },
   "outputs": [
    {
     "data": {
      "text/plain": [
       "array([[0.01084954, 0.01067893, 0.0101161 , 0.00959802, 0.00995365,\n",
       "        0.01094447, 0.01025066, 0.00993572, 0.01055877, 0.01018769,\n",
       "        0.00953612, 0.00917363, 0.0111585 , 0.01085908, 0.01021209,\n",
       "        0.0093515 ],\n",
       "       [0.98535397, 0.98530893, 0.9852185 , 0.98534547, 0.98545905,\n",
       "        0.9857668 , 0.9849459 , 0.98572953, 0.98514174, 0.98555147,\n",
       "        0.98533525, 0.9848729 , 0.98576046, 0.98565126, 0.98539772,\n",
       "        0.98517862],\n",
       "       [0.98759971, 0.98761806, 0.9874765 , 0.98769491, 0.98746135,\n",
       "        0.98796195, 0.98712175, 0.98790971, 0.98729987, 0.98759049,\n",
       "        0.98743808, 0.9869902 , 0.98776462, 0.98785278, 0.98760594,\n",
       "        0.9872601 ],\n",
       "       [0.01542359, 0.01565073, 0.01603368, 0.0159833 , 0.01574457,\n",
       "        0.01490773, 0.01619153, 0.01549017, 0.01582712, 0.01567145,\n",
       "        0.01610232, 0.01677778, 0.01501096, 0.01522716, 0.01564869,\n",
       "        0.01637519]])"
      ]
     },
     "execution_count": 265,
     "metadata": {},
     "output_type": "execute_result"
    }
   ],
   "source": [
    "X = np.array([[0,0,1],\n",
    "                  [0,1,1],\n",
    "                  [1,0,1],\n",
    "                  [1,1,1]])\n",
    "Y = np.array([[0],[1],[1],[0]])\n",
    "nn = NeuralNetwork(X,Y)\n",
    "\n",
    "for i in range(1500):\n",
    "    nn.feedforward()\n",
    "    nn.backPropagation()\n",
    "\n",
    "\n",
    "nn.output"
   ]
  },
  {
   "cell_type": "code",
   "execution_count": 25,
   "metadata": {
    "scrolled": true
   },
   "outputs": [
    {
     "data": {
      "text/plain": [
       "(2, 3, 2)"
      ]
     },
     "execution_count": 25,
     "metadata": {},
     "output_type": "execute_result"
    }
   ],
   "source": [
    "k = np.array([[[0, 1],[2, 3],[4, 5]],\n",
    "             [[0, 1],[2, 3],[4, 5]]])\n",
    "k.shape"
   ]
  },
  {
   "cell_type": "code",
   "execution_count": 26,
   "metadata": {},
   "outputs": [
    {
     "data": {
      "text/plain": [
       "array([[[0, 1, 2, 3, 4, 5]],\n",
       "\n",
       "       [[0, 1, 2, 3, 4, 5]]])"
      ]
     },
     "execution_count": 26,
     "metadata": {},
     "output_type": "execute_result"
    }
   ],
   "source": [
    "np.reshape(k,(2,1,6))"
   ]
  },
  {
   "cell_type": "code",
   "execution_count": 10,
   "metadata": {},
   "outputs": [],
   "source": [
    "a = NeuralNetwork(5,10)"
   ]
  },
  {
   "cell_type": "code",
   "execution_count": 20,
   "metadata": {},
   "outputs": [],
   "source": [
    "input = np.array([[1,2,3],[2,1,3]])"
   ]
  },
  {
   "cell_type": "code",
   "execution_count": 31,
   "metadata": {},
   "outputs": [
    {
     "data": {
      "text/plain": [
       "(2, 3)"
      ]
     },
     "execution_count": 31,
     "metadata": {},
     "output_type": "execute_result"
    }
   ],
   "source": [
    "input.shape"
   ]
  },
  {
   "cell_type": "code",
   "execution_count": 40,
   "metadata": {},
   "outputs": [],
   "source": [
    "w = np.random.rand(3,2)"
   ]
  },
  {
   "cell_type": "code",
   "execution_count": 46,
   "metadata": {},
   "outputs": [],
   "source": [
    "w = np.array([[1,0],[0,1],[1,1]])"
   ]
  },
  {
   "cell_type": "code",
   "execution_count": 47,
   "metadata": {},
   "outputs": [
    {
     "data": {
      "text/plain": [
       "array([[1, 0],\n",
       "       [0, 1],\n",
       "       [1, 1]])"
      ]
     },
     "execution_count": 47,
     "metadata": {},
     "output_type": "execute_result"
    }
   ],
   "source": [
    "w"
   ]
  },
  {
   "cell_type": "code",
   "execution_count": 66,
   "metadata": {},
   "outputs": [
    {
     "data": {
      "text/plain": [
       "array([[4, 5],\n",
       "       [5, 4]])"
      ]
     },
     "execution_count": 66,
     "metadata": {},
     "output_type": "execute_result"
    }
   ],
   "source": [
    "l1"
   ]
  },
  {
   "cell_type": "code",
   "execution_count": 59,
   "metadata": {},
   "outputs": [],
   "source": [
    "l1 = np.dot(input,w)"
   ]
  },
  {
   "cell_type": "code",
   "execution_count": 71,
   "metadata": {},
   "outputs": [
    {
     "data": {
      "text/plain": [
       "array([14, 13])"
      ]
     },
     "execution_count": 71,
     "metadata": {},
     "output_type": "execute_result"
    }
   ],
   "source": [
    "np.dot(l1.T,[1,2])"
   ]
  },
  {
   "cell_type": "code",
   "execution_count": 65,
   "metadata": {},
   "outputs": [
    {
     "data": {
      "text/plain": [
       "array([[20, 25],\n",
       "       [25, 20]])"
      ]
     },
     "execution_count": 65,
     "metadata": {},
     "output_type": "execute_result"
    }
   ],
   "source": [
    "d"
   ]
  },
  {
   "cell_type": "code",
   "execution_count": 57,
   "metadata": {},
   "outputs": [
    {
     "data": {
      "text/plain": [
       "array([[37, 40,  4],\n",
       "       [37, 40,  4]])"
      ]
     },
     "execution_count": 57,
     "metadata": {},
     "output_type": "execute_result"
    }
   ],
   "source": [
    "a = np.array([[1,2],[1,2]]) \n",
    "b = np.array([[11,12,2],[13,14,1]]) \n",
    "np.dot(a,b)"
   ]
  }
 ],
 "metadata": {
  "kernelspec": {
   "display_name": "Python 3",
   "language": "python",
   "name": "python3"
  },
  "language_info": {
   "codemirror_mode": {
    "name": "ipython",
    "version": 3
   },
   "file_extension": ".py",
   "mimetype": "text/x-python",
   "name": "python",
   "nbconvert_exporter": "python",
   "pygments_lexer": "ipython3",
   "version": "3.7.3"
  }
 },
 "nbformat": 4,
 "nbformat_minor": 2
}
