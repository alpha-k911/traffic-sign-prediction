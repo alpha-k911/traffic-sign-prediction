{
 "cells": [
  {
   "cell_type": "code",
   "execution_count": 1,
   "metadata": {},
   "outputs": [
    {
     "name": "stderr",
     "output_type": "stream",
     "text": [
      "Using TensorFlow backend.\n"
     ]
    }
   ],
   "source": [
    "import cv2\n",
    "from matplotlib import pyplot as plt\n",
    "import os\n",
    "import numpy as np\n",
    "import keras\n",
    "import tensorflow as tf\n",
    "import glob\n",
    "\n",
    "classes = 17\n",
    "\n",
    "def get_im(path):\n",
    "    # Load as grayscale\n",
    "    img = cv2.imread(path, 0)\n",
    "    return img\n",
    "\n",
    "# to show image\n",
    "def show_img(img):\n",
    "    plt.imshow(img, cmap = 'gray', interpolation = 'bicubic')\n",
    "    plt.show()\n",
    "\n",
    "def load_train():\n",
    "    X_train = []\n",
    "    y_train = []\n",
    "    p = \"/root/alpha/git/mine/tensor/dataset/train\"\n",
    "    for j in range(1,classes):\n",
    "        path = os.path.join(p , str(j)+\"/*\")\n",
    "        files = glob.glob(path)\n",
    "        for fl in files:\n",
    "            img = get_im(fl)\n",
    "            X_train.append(img)\n",
    "            y_train.append(j-1)\n",
    "\n",
    "    return X_train, y_train\n",
    "\n",
    "def load_test():\n",
    "    X_train = []\n",
    "    y_train = []\n",
    "    p = \"/root/alpha/git/mine/tensor/dataset/test\"\n",
    "    for j in range(1,classes):\n",
    "        path = os.path.join(p , str(j)+\"t/*\")\n",
    "        files = glob.glob(path)\n",
    "        for fl in files:\n",
    "            img = get_im(fl)\n",
    "            X_train.append(img)\n",
    "            y_train.append(j-1)\n",
    "\n",
    "    return X_train, y_train\n",
    "\n",
    "lx,ly = load_train()\n",
    "ltx , lty = load_test()\n",
    "\n",
    "x = np.array(lx)\n",
    "y = np.array(ly)\n",
    "ty = np.array(lty)\n",
    "tx = np.array(ltx)\n",
    "x = x.astype(float) / 255\n",
    "tx = tx.astype(float) / 255"
   ]
  },
  {
   "cell_type": "code",
   "execution_count": 4,
   "metadata": {},
   "outputs": [],
   "source": [
    "def sigmoid(x):\n",
    "    sig = 1.0/(1+ np.exp(-x))\n",
    "#     print(sig)\n",
    "    return sig\n",
    "\n",
    "def sigmoid_derivative(x):\n",
    "    sig = x\n",
    "#     sig = 1.0/(1+ np.exp(-x))\n",
    "    return sig * (1.0 - sig)"
   ]
  },
  {
   "cell_type": "code",
   "execution_count": 3,
   "metadata": {},
   "outputs": [],
   "source": [
    "def sigmoid(x): #relu\n",
    "    return np.maximum(x, 0)\n",
    "\n",
    "def sigmoid_derivative(x): #relu\n",
    "#     if (x > 0.0).any():\n",
    "#         return 1\n",
    "#     else:\n",
    "#         return 0.0\n",
    "    return 1 * (x > 0)"
   ]
  },
  {
   "cell_type": "code",
   "execution_count": 5,
   "metadata": {},
   "outputs": [],
   "source": [
    "inp = np.reshape(x,(270,900))\n",
    "t_inp = np.reshape(tx,(80,900))"
   ]
  },
  {
   "cell_type": "code",
   "execution_count": 6,
   "metadata": {
    "scrolled": true
   },
   "outputs": [],
   "source": [
    "arr = np.empty((0,16), float)\n",
    "for i in range(270):\n",
    "    k = np.zeros(16)\n",
    "    k = np.reshape(k,(1,16))\n",
    "    k[0][y[i]] = 1\n",
    "#     print(k)\n",
    "    arr = np.append(arr, k, axis=0)"
   ]
  },
  {
   "cell_type": "code",
   "execution_count": 12,
   "metadata": {},
   "outputs": [],
   "source": [
    "class feedForwardNetwork:\n",
    "    def __init__(self, x, y):\n",
    "        self.input  = x\n",
    "        self.w      = np.random.rand(self.input.shape[1],inner) \n",
    "        self.v      = np.random.rand(inner,outer)                 \n",
    "        self.y      = y\n",
    "        self.output = np.zeros(outer)\n",
    "        self.act_output = np.zeros(outer)\n",
    "    def feedforward(self):\n",
    "#         self.layer1 = (np.dot(self.input,self.w))\n",
    "#         self.act_layer1 = sigmoid(self.layer1/max(self.layer1[0]))\n",
    "#         self.output = (np.dot(self.act_layer1,self.v))\n",
    "#         self.act_output = sigmoid(self.output/max(self.output[0]))\n",
    "        self.layer1 = (np.dot(self.input,self.w))\n",
    "        self.act_layer1 = sigmoid(self.layer1)\n",
    "        self.output = (np.dot(self.act_layer1,self.v))\n",
    "        self.act_output = sigmoid(self.output)\n",
    "        \n",
    "    def backPropagation(self):\n",
    "        self.dv = 0.01* np.dot(self.act_layer1.T,(self.y-self.act_output)*sigmoid_derivative(self.output))\n",
    "        self.dw = 0.01*np.dot(self.input.T,(np.dot((self.y - self.act_output) * sigmoid_derivative(self.output), self.v.T) * sigmoid_derivative(self.layer1)))\n",
    "#                     np.dot(self.input.T,  (np.dot(2*(self.y - self.output) * sigmoid_derivative(self.output), self.weights2.T) * sigmoid_derivative(self.layer1)))\n",
    "        self.w += self.dw\n",
    "        self.v += self.dv"
   ]
  },
  {
   "cell_type": "code",
   "execution_count": 23,
   "metadata": {},
   "outputs": [
    {
     "data": {
      "text/plain": [
       "array([[5866.67550236, 4766.39180418, 6561.24731215, ..., 6634.65252961,\n",
       "        7306.40298248, 5889.40692845],\n",
       "       [5866.67550236, 4766.39180418, 6561.24731215, ..., 6634.65252961,\n",
       "        7306.40298248, 5889.40692845],\n",
       "       [5866.67550236, 4766.39180418, 6561.24731215, ..., 6634.65252961,\n",
       "        7306.40298248, 5889.40692845],\n",
       "       ...,\n",
       "       [5866.67550236, 4766.39180418, 6561.24731215, ..., 6634.65252961,\n",
       "        7306.40298248, 5889.40692845],\n",
       "       [5866.67550236, 4766.39180418, 6561.24731215, ..., 6634.65252961,\n",
       "        7306.40298248, 5889.40692845],\n",
       "       [5866.67550236, 4766.39180418, 6561.24731215, ..., 6634.65252961,\n",
       "        7306.40298248, 5889.40692845]])"
      ]
     },
     "execution_count": 23,
     "metadata": {},
     "output_type": "execute_result"
    }
   ],
   "source": [
    "nn.dv\n",
    "# nn.output\n",
    "# nn.act_layer1\n",
    "# sigmoid_derivative(nn.act_layer1)"
   ]
  },
  {
   "cell_type": "code",
   "execution_count": 67,
   "metadata": {
    "scrolled": true
   },
   "outputs": [
    {
     "data": {
      "text/plain": [
       "array([[ 0.27351266, -0.71562024, -0.72339141, ..., -0.72489182,\n",
       "        -0.72685861, -0.72144491],\n",
       "       [ 0.27358869, -0.71555972, -0.72332826, ..., -0.72482984,\n",
       "        -0.72681556, -0.72138802],\n",
       "       [ 0.26925446, -0.71975629, -0.72763132, ..., -0.7291365 ,\n",
       "        -0.7311539 , -0.72564478],\n",
       "       ...,\n",
       "       [-0.65122218, -0.64330494, -0.64897653, ..., -0.65005266,\n",
       "        -0.65149677,  0.35241597],\n",
       "       [-0.7101964 , -0.69980663, -0.70725378, ..., -0.70864084,\n",
       "        -0.71050591,  0.29458176],\n",
       "       [-0.62344795, -0.61680753, -0.62160515, ..., -0.62241668,\n",
       "        -0.62368536,  0.37958336]])"
      ]
     },
     "execution_count": 67,
     "metadata": {},
     "output_type": "execute_result"
    }
   ],
   "source": [
    "np.dot(sigmoid_derivative(nn.output/max(nn.output[0]))*(nn.y - nn.act_output),nn.v.T)\n",
    "nn.v\n",
    "np.dot(nn.layer1.T,sigmoid_derivative(nn.output/max(nn.output[0]))*(nn.y-nn.act_output))\n",
    "nn.y-nn.act_output"
   ]
  },
  {
   "cell_type": "code",
   "execution_count": 19,
   "metadata": {},
   "outputs": [
    {
     "data": {
      "text/plain": [
       "array([[0.16980372, 0.17238227, 0.17532871, ..., 0.17381198, 0.17077639,\n",
       "        0.17168099],\n",
       "       [0.16984458, 0.17242435, 0.17536336, ..., 0.17385473, 0.17082162,\n",
       "        0.17171932],\n",
       "       [0.16714063, 0.16981737, 0.17281308, ..., 0.17126441, 0.16817671,\n",
       "        0.16907659],\n",
       "       ...,\n",
       "       [0.21225204, 0.2136347 , 0.21521518, ..., 0.21438869, 0.21276133,\n",
       "        0.21324474],\n",
       "       [0.18001993, 0.18233743, 0.18498006, ..., 0.18357988, 0.18085513,\n",
       "        0.1816602 ],\n",
       "       [0.22453042, 0.2255261 , 0.22660512, ..., 0.22603221, 0.22489927,\n",
       "        0.22523286]])"
      ]
     },
     "execution_count": 19,
     "metadata": {},
     "output_type": "execute_result"
    }
   ],
   "source": [
    "sigmoid_derivative(np.dot(nn.layer1,nn.v)/269.15313533645804)"
   ]
  },
  {
   "cell_type": "code",
   "execution_count": 103,
   "metadata": {},
   "outputs": [
    {
     "data": {
      "text/plain": [
       "array([[0.19661193, 0.19661193, 0.19661193, ..., 0.19661193, 0.19661193,\n",
       "        0.19661193],\n",
       "       [0.19661193, 0.19661193, 0.19661193, ..., 0.19661193, 0.19661193,\n",
       "        0.19661193],\n",
       "       [0.19661193, 0.19661193, 0.19661193, ..., 0.19661193, 0.19661193,\n",
       "        0.19661193],\n",
       "       ...,\n",
       "       [0.19661193, 0.19661193, 0.19661193, ..., 0.19661193, 0.19661193,\n",
       "        0.19661193],\n",
       "       [0.19661193, 0.19661193, 0.19661193, ..., 0.19661193, 0.19661193,\n",
       "        0.19661193],\n",
       "       [0.19661193, 0.19661193, 0.19661193, ..., 0.19661193, 0.19661193,\n",
       "        0.19661193]])"
      ]
     },
     "execution_count": 103,
     "metadata": {},
     "output_type": "execute_result"
    }
   ],
   "source": [
    "sigmoid_derivative(nn.output)1"
   ]
  },
  {
   "cell_type": "code",
   "execution_count": 24,
   "metadata": {},
   "outputs": [
    {
     "name": "stdout",
     "output_type": "stream",
     "text": [
      "Epoch: 0\n",
      "[[-1.84076879e+09 -2.09778712e+09 -1.63446198e+09 ... -1.37990665e+09\n",
      "  -1.87107867e+09 -1.92286575e+09]\n",
      " [-1.85708259e+09 -2.11608490e+09 -1.64921923e+09 ... -1.39125748e+09\n",
      "  -1.88694432e+09 -1.93921376e+09]\n",
      " [-1.89127140e+09 -2.15502951e+09 -1.67884418e+09 ... -1.41653297e+09\n",
      "  -1.92162997e+09 -1.97492748e+09]\n",
      " ...\n",
      " [-1.66379859e+09 -1.88380692e+09 -1.46561206e+09 ... -1.24284509e+09\n",
      "  -1.68123330e+09 -1.73027641e+09]\n",
      " [-1.66643687e+09 -1.88515797e+09 -1.46741478e+09 ... -1.24383605e+09\n",
      "  -1.68184500e+09 -1.73222874e+09]\n",
      " [-1.66389182e+09 -1.88465955e+09 -1.46525107e+09 ... -1.24295980e+09\n",
      "  -1.68201879e+09 -1.73076526e+09]]\n",
      "[[4827.86809178 7420.42081639 6960.32396598 ... 5222.12092399\n",
      "  6908.19946217 5951.93835347]\n",
      " [4827.86809178 7420.42081639 6960.32396598 ... 5222.12092399\n",
      "  6908.19946217 5951.93835347]\n",
      " [4827.86809178 7420.42081639 6960.32396598 ... 5222.12092399\n",
      "  6908.19946217 5951.93835347]\n",
      " ...\n",
      " [4827.86809178 7420.42081639 6960.32396598 ... 5222.12092399\n",
      "  6908.19946217 5951.93835347]\n",
      " [4827.86809178 7420.42081639 6960.32396598 ... 5222.12092399\n",
      "  6908.19946217 5951.93835347]\n",
      " [4827.86809178 7420.42081639 6960.32396598 ... 5222.12092399\n",
      "  6908.19946217 5951.93835347]]\n",
      "[[1. 1. 1. ... 1. 1. 1.]\n",
      " [1. 1. 1. ... 1. 1. 1.]\n",
      " [1. 1. 1. ... 1. 1. 1.]\n",
      " ...\n",
      " [1. 1. 1. ... 1. 1. 1.]\n",
      " [1. 1. 1. ... 1. 1. 1.]\n",
      " [1. 1. 1. ... 1. 1. 1.]]\n",
      "Epoch: 1\n",
      "[[-0. -0. -0. ... -0. -0. -0.]\n",
      " [-0. -0. -0. ... -0. -0. -0.]\n",
      " [-0. -0. -0. ... -0. -0. -0.]\n",
      " ...\n",
      " [-0. -0. -0. ...  0.  0.  0.]\n",
      " [-0. -0. -0. ...  0.  0.  0.]\n",
      " [-0. -0. -0. ...  0.  0.  0.]]\n",
      "[[0. 0. 0. ... 0. 0. 0.]\n",
      " [0. 0. 0. ... 0. 0. 0.]\n",
      " [0. 0. 0. ... 0. 0. 0.]\n",
      " ...\n",
      " [0. 0. 0. ... 0. 0. 0.]\n",
      " [0. 0. 0. ... 0. 0. 0.]\n",
      " [0. 0. 0. ... 0. 0. 0.]]\n",
      "[[0.5 0.5 0.5 ... 0.5 0.5 0.5]\n",
      " [0.5 0.5 0.5 ... 0.5 0.5 0.5]\n",
      " [0.5 0.5 0.5 ... 0.5 0.5 0.5]\n",
      " ...\n",
      " [0.5 0.5 0.5 ... 0.5 0.5 0.5]\n",
      " [0.5 0.5 0.5 ... 0.5 0.5 0.5]\n",
      " [0.5 0.5 0.5 ... 0.5 0.5 0.5]]\n"
     ]
    },
    {
     "name": "stderr",
     "output_type": "stream",
     "text": [
      "/usr/lib/python3/dist-packages/ipykernel_launcher.py:2: RuntimeWarning: overflow encountered in exp\n",
      "  \n"
     ]
    },
    {
     "data": {
      "text/plain": [
       "array([[0.5, 0.5, 0.5, ..., 0.5, 0.5, 0.5],\n",
       "       [0.5, 0.5, 0.5, ..., 0.5, 0.5, 0.5],\n",
       "       [0.5, 0.5, 0.5, ..., 0.5, 0.5, 0.5],\n",
       "       ...,\n",
       "       [0.5, 0.5, 0.5, ..., 0.5, 0.5, 0.5],\n",
       "       [0.5, 0.5, 0.5, ..., 0.5, 0.5, 0.5],\n",
       "       [0.5, 0.5, 0.5, ..., 0.5, 0.5, 0.5]])"
      ]
     },
     "execution_count": 24,
     "metadata": {},
     "output_type": "execute_result"
    }
   ],
   "source": [
    "inner = 100\n",
    "outer = 16\n",
    "nn = feedForwardNetwork(inp,arr)\n",
    "\n",
    "for i in range(2):\n",
    "    print(\"Epoch: \"+str(i))\n",
    "    nn.feedforward()\n",
    "    nn.backPropagation()\n",
    "#     if i % 100 == 0:\n",
    "    print(nn.dw)\n",
    "    print(nn.dv)\n",
    "    print(nn.act_output)\n",
    "\n",
    "\n",
    "nn.act_output"
   ]
  },
  {
   "cell_type": "code",
   "execution_count": null,
   "metadata": {},
   "outputs": [],
   "source": [
    "nn = feedForwardNetwork(inp,arr)\n",
    "# np.dot(nn.input,nn.w).shape\n",
    "nn.backPropagation()\n",
    "# sigmoid(np.dot(nn.input,nn.w))\n",
    "sigmoid_derivative(nn.output).shape"
   ]
  },
  {
   "cell_type": "code",
   "execution_count": 5,
   "metadata": {},
   "outputs": [
    {
     "data": {
      "text/plain": [
       "(80, 30, 30)"
      ]
     },
     "execution_count": 5,
     "metadata": {},
     "output_type": "execute_result"
    }
   ],
   "source": [
    "tx.shape"
   ]
  },
  {
   "cell_type": "code",
   "execution_count": 24,
   "metadata": {},
   "outputs": [
    {
     "data": {
      "image/png": "[encoded data removed]",
      "text/plain": [
       "<Figure size 432x288 with 2 Axes>"
      ]
     },
     "metadata": {
      "needs_background": "light"
     },
     "output_type": "display_data"
    }
   ],
   "source": [
    "tx.shape\n",
    "plt.figure()\n",
    "plt.imshow(np.reshape(inp[0],(30,30)))\n",
    "plt.colorbar()\n",
    "plt.grid(False)\n",
    "plt.show()"
   ]
  },
  {
   "cell_type": "code",
   "execution_count": 72,
   "metadata": {},
   "outputs": [
    {
     "data": {
      "text/plain": [
       "array([ 0,  0,  0,  0,  0,  0,  0,  0,  0,  0,  0,  0,  0,  0,  0,  0,  0,\n",
       "        0,  1,  1,  1,  1,  1,  1,  1,  1,  1,  1,  1,  1,  1,  1,  1,  1,\n",
       "        2,  2,  2,  2,  2,  2,  2,  2,  2,  2,  2,  2,  2,  2,  2,  2,  2,\n",
       "        2,  3,  3,  3,  3,  3,  3,  3,  3,  3,  3,  3,  3,  3,  3,  4,  4,\n",
       "        4,  4,  4,  4,  4,  4,  4,  4,  4,  4,  4,  4,  4,  5,  5,  5,  5,\n",
       "        5,  5,  5,  5,  5,  5,  5,  5,  5,  5,  5,  5,  5,  5,  5,  5,  5,\n",
       "        5,  5,  6,  6,  6,  6,  6,  6,  6,  6,  6,  6,  6,  6,  6,  6,  6,\n",
       "        6,  6,  7,  7,  7,  7,  7,  7,  7,  7,  7,  7,  7,  7,  7,  7,  7,\n",
       "        7,  7,  7,  7,  7,  7,  7,  8,  8,  8,  8,  8,  8,  8,  8,  8,  8,\n",
       "        8,  8,  8,  8,  8,  9,  9,  9,  9,  9,  9,  9,  9,  9,  9,  9,  9,\n",
       "        9,  9,  9,  9,  9, 10, 10, 10, 10, 10, 10, 10, 10, 10, 10, 10, 10,\n",
       "       10, 10, 10, 11, 11, 11, 11, 11, 11, 11, 11, 11, 11, 11, 11, 11, 11,\n",
       "       11, 11, 11, 11, 11, 11, 12, 12, 12, 12, 12, 12, 12, 12, 12, 12, 12,\n",
       "       12, 12, 12, 12, 12, 12, 13, 13, 13, 13, 13, 13, 13, 13, 13, 13, 13,\n",
       "       13, 13, 13, 14, 14, 14, 14, 14, 14, 14, 14, 14, 14, 14, 14, 14, 15,\n",
       "       15, 15, 15, 15, 15, 15, 15, 15, 15, 15, 15, 15, 15, 15, 15])"
      ]
     },
     "execution_count": 72,
     "metadata": {},
     "output_type": "execute_result"
    }
   ],
   "source": [
    "y"
   ]
  },
  {
   "cell_type": "code",
   "execution_count": 11,
   "metadata": {},
   "outputs": [
    {
     "data": {
      "text/plain": [
       "array([[1., 0., 0., ..., 0., 0., 0.],\n",
       "       [1., 0., 0., ..., 0., 0., 0.],\n",
       "       [1., 0., 0., ..., 0., 0., 0.],\n",
       "       ...,\n",
       "       [0., 0., 0., ..., 0., 0., 1.],\n",
       "       [0., 0., 0., ..., 0., 0., 1.],\n",
       "       [0., 0., 0., ..., 0., 0., 1.]])"
      ]
     },
     "execution_count": 11,
     "metadata": {},
     "output_type": "execute_result"
    }
   ],
   "source": [
    "arr"
   ]
  },
  {
   "cell_type": "code",
   "execution_count": 124,
   "metadata": {},
   "outputs": [
    {
     "data": {
      "text/plain": [
       "array([[0.5, 0.5, 0.5, ..., 0.5, 0.5, 0.5],\n",
       "       [0.5, 0.5, 0.5, ..., 0.5, 0.5, 0.5],\n",
       "       [0.5, 0.5, 0.5, ..., 0.5, 0.5, 0.5],\n",
       "       ...,\n",
       "       [0.5, 0.5, 0.5, ..., 0.5, 0.5, 0.5],\n",
       "       [0.5, 0.5, 0.5, ..., 0.5, 0.5, 0.5],\n",
       "       [0.5, 0.5, 0.5, ..., 0.5, 0.5, 0.5]])"
      ]
     },
     "execution_count": 124,
     "metadata": {},
     "output_type": "execute_result"
    }
   ],
   "source": [
    "nn.feedforward(t_inp[10],arr[10])"
   ]
  },
  {
   "cell_type": "code",
   "execution_count": 89,
   "metadata": {},
   "outputs": [
    {
     "data": {
      "text/plain": [
       "array([0., 0., 0., 0., 0., 0., 0., 1., 0., 0., 0., 0., 0., 0., 0., 0.])"
      ]
     },
     "execution_count": 89,
     "metadata": {},
     "output_type": "execute_result"
    }
   ],
   "source": [
    "arr[140]"
   ]
  },
  {
   "cell_type": "code",
   "execution_count": 65,
   "metadata": {},
   "outputs": [
    {
     "data": {
      "text/plain": [
       "array([1., 1., 1., 1., 1., 1., 1., 1., 1., 1., 1., 1., 1., 1., 1., 1.])"
      ]
     },
     "execution_count": 65,
     "metadata": {},
     "output_type": "execute_result"
    }
   ],
   "source": [
    "sigmoid(np.dot(sigmoid(np.dot(t_inp[0],nn.w)),nn.v))"
   ]
  },
  {
   "cell_type": "code",
   "execution_count": 62,
   "metadata": {
    "scrolled": true
   },
   "outputs": [
    {
     "data": {
      "text/plain": [
       "array([[0.01618388, 0.01935707],\n",
       "       [0.01727665, 0.98397978],\n",
       "       [0.98182049, 0.01873056],\n",
       "       [0.98731539, 0.98590599]])"
      ]
     },
     "execution_count": 62,
     "metadata": {},
     "output_type": "execute_result"
    }
   ],
   "source": [
    "inner = 5\n",
    "outer = 2\n",
    "X = np.array([[0,0,1],\n",
    "                  [0,1,1],\n",
    "                  [1,0,1],\n",
    "                  [1,1,1]])\n",
    "Y = np.array([[0,0],[0,1],[1,0],[1,1]])\n",
    "tmp = feedForwardNetwork(X,Y)\n",
    "\n",
    "for i in range(1500):\n",
    "    tmp.feedforward()\n",
    "    tmp.backPropagation()\n",
    "\n",
    "\n",
    "tmp.output"
   ]
  },
  {
   "cell_type": "code",
   "execution_count": 57,
   "metadata": {},
   "outputs": [
    {
     "data": {
      "text/plain": [
       "(4, 16)"
      ]
     },
     "execution_count": 57,
     "metadata": {},
     "output_type": "execute_result"
    }
   ],
   "source": [
    "tmp.output.shape"
   ]
  },
  {
   "cell_type": "code",
   "execution_count": 52,
   "metadata": {},
   "outputs": [
    {
     "data": {
      "text/plain": [
       "0"
      ]
     },
     "execution_count": 52,
     "metadata": {},
     "output_type": "execute_result"
    }
   ],
   "source": [
    "dw"
   ]
  },
  {
   "cell_type": "code",
   "execution_count": 48,
   "metadata": {
    "scrolled": true
   },
   "outputs": [],
   "source": [
    "dw = 0\n",
    "dv = 0"
   ]
  },
  {
   "cell_type": "code",
   "execution_count": 26,
   "metadata": {},
   "outputs": [
    {
     "data": {
      "text/plain": [
       "array([[[0, 1, 2, 3, 4, 5]],\n",
       "\n",
       "       [[0, 1, 2, 3, 4, 5]]])"
      ]
     },
     "execution_count": 26,
     "metadata": {},
     "output_type": "execute_result"
    }
   ],
   "source": [
    "np.reshape(k,(2,1,6))"
   ]
  },
  {
   "cell_type": "code",
   "execution_count": 10,
   "metadata": {},
   "outputs": [],
   "source": [
    "a = feedForwardNetwork(5,10)"
   ]
  },
  {
   "cell_type": "code",
   "execution_count": 20,
   "metadata": {},
   "outputs": [],
   "source": [
    "input = np.array([[1,2,3],[2,1,3]])"
   ]
  },
  {
   "cell_type": "code",
   "execution_count": 31,
   "metadata": {},
   "outputs": [
    {
     "data": {
      "text/plain": [
       "(2, 3)"
      ]
     },
     "execution_count": 31,
     "metadata": {},
     "output_type": "execute_result"
    }
   ],
   "source": [
    "input.shape"
   ]
  },
  {
   "cell_type": "code",
   "execution_count": 40,
   "metadata": {},
   "outputs": [],
   "source": [
    "w = np.random.rand(3,2)"
   ]
  },
  {
   "cell_type": "code",
   "execution_count": 46,
   "metadata": {},
   "outputs": [],
   "source": [
    "w = np.array([[1,0],[0,1],[1,1]])"
   ]
  },
  {
   "cell_type": "code",
   "execution_count": 47,
   "metadata": {},
   "outputs": [
    {
     "data": {
      "text/plain": [
       "array([[1, 0],\n",
       "       [0, 1],\n",
       "       [1, 1]])"
      ]
     },
     "execution_count": 47,
     "metadata": {},
     "output_type": "execute_result"
    }
   ],
   "source": [
    "w"
   ]
  },
  {
   "cell_type": "code",
   "execution_count": 66,
   "metadata": {},
   "outputs": [
    {
     "data": {
      "text/plain": [
       "array([[4, 5],\n",
       "       [5, 4]])"
      ]
     },
     "execution_count": 66,
     "metadata": {},
     "output_type": "execute_result"
    }
   ],
   "source": [
    "l1"
   ]
  },
  {
   "cell_type": "code",
   "execution_count": 128,
   "metadata": {},
   "outputs": [
    {
     "data": {
      "text/plain": [
       "array([1.        , 1.        , 1.        , 1.        , 1.        ,\n",
       "       1.        , 1.        , 1.        , 1.        , 1.        ,\n",
       "       1.        , 1.        , 0.99215686, 0.96470588, 0.91372549,\n",
       "       0.90588235, 0.92156863, 0.96862745, 0.99215686, 1.        ,\n",
       "       1.        , 0.99607843, 1.        , 1.        , 1.        ,\n",
       "       1.        , 1.        , 1.        , 1.        , 1.        ,\n",
       "       1.        , 1.        , 1.        , 1.        , 1.        ,\n",
       "       1.        , 1.        , 1.        , 1.        , 1.        ,\n",
       "       1.        , 0.99607843, 0.98823529, 0.90980392, 0.85098039,\n",
       "       0.83529412, 0.78823529, 0.89803922, 0.97647059, 1.        ,\n",
       "       1.        , 1.        , 1.        , 1.        , 1.        ,\n",
       "       1.        , 1.        , 1.        , 1.        , 1.        ,\n",
       "       1.        , 1.        , 1.        , 1.        , 1.        ,\n",
       "       1.        , 1.        , 1.        , 1.        , 1.        ,\n",
       "       0.99607843, 0.98823529, 0.95686275, 0.84313725, 0.49411765,\n",
       "       0.70980392, 0.74901961, 0.77647059, 0.93333333, 0.99215686,\n",
       "       1.        , 1.        , 1.        , 1.        , 1.        ,\n",
       "       1.        , 1.        , 1.        , 1.        , 1.        ,\n",
       "       1.        , 1.        , 1.        , 1.        , 1.        ,\n",
       "       1.        , 1.        , 1.        , 1.        , 1.        ,\n",
       "       0.99215686, 0.97647059, 0.89803922, 0.62352941, 0.6       ,\n",
       "       0.47843137, 0.8       , 0.67058824, 0.85490196, 0.96862745,\n",
       "       1.        , 1.        , 1.        , 1.        , 1.        ,\n",
       "       1.        , 1.        , 1.        , 1.        , 1.        ,\n",
       "       1.        , 1.        , 1.        , 1.        , 1.        ,\n",
       "       1.        , 1.        , 1.        , 1.        , 0.99607843,\n",
       "       0.99215686, 0.94509804, 0.82352941, 0.54509804, 0.83137255,\n",
       "       0.6627451 , 0.61568627, 0.73333333, 0.74509804, 0.92156863,\n",
       "       0.98823529, 0.99607843, 1.        , 1.        , 1.        ,\n",
       "       1.        , 1.        , 1.        , 1.        , 1.        ,\n",
       "       1.        , 1.        , 1.        , 1.        , 1.        ,\n",
       "       1.        , 1.        , 1.        , 0.99607843, 0.99607843,\n",
       "       0.98039216, 0.89019608, 0.64313725, 0.69411765, 0.85098039,\n",
       "       0.84705882, 0.55294118, 0.81568627, 0.69019608, 0.83921569,\n",
       "       0.96470588, 0.99607843, 1.        , 1.        , 1.        ,\n",
       "       1.        , 1.        , 1.        , 1.        , 1.        ,\n",
       "       1.        , 1.        , 1.        , 1.        , 1.        ,\n",
       "       1.        , 1.        , 1.        , 0.99607843, 0.99215686,\n",
       "       0.9372549 , 0.77647059, 0.47843137, 0.82745098, 0.85098039,\n",
       "       0.84705882, 0.71764706, 0.60392157, 0.75294118, 0.71764706,\n",
       "       0.90196078, 0.98823529, 0.99607843, 1.        , 1.        ,\n",
       "       1.        , 1.        , 1.        , 1.        , 1.        ,\n",
       "       1.        , 1.        , 1.        , 1.        , 1.        ,\n",
       "       1.        , 1.        , 1.        , 0.99215686, 0.96862745,\n",
       "       0.87058824, 0.58431373, 0.76078431, 0.85098039, 0.83529412,\n",
       "       0.63137255, 0.59215686, 0.47843137, 0.74509804, 0.6627451 ,\n",
       "       0.81176471, 0.95294118, 0.99215686, 0.99607843, 1.        ,\n",
       "       1.        , 1.        , 1.        , 1.        , 1.        ,\n",
       "       1.        , 1.        , 1.        , 1.        , 1.        ,\n",
       "       1.        , 1.        , 0.99607843, 0.98823529, 0.9254902 ,\n",
       "       0.80392157, 0.57647059, 0.83921569, 0.85098039, 0.73333333,\n",
       "       0.10980392, 0.07058824, 0.62352941, 0.58431373, 0.79215686,\n",
       "       0.71764706, 0.89411765, 0.98039216, 0.99607843, 1.        ,\n",
       "       1.        , 1.        , 1.        , 1.        , 1.        ,\n",
       "       1.        , 1.        , 1.        , 1.        , 1.        ,\n",
       "       1.        , 1.        , 0.99215686, 0.96470588, 0.85882353,\n",
       "       0.50196078, 0.74509804, 0.85098039, 0.85098039, 0.7372549 ,\n",
       "       0.18431373, 0.15686275, 0.7254902 , 0.60392157, 0.76470588,\n",
       "       0.70588235, 0.79607843, 0.94509804, 0.99215686, 1.        ,\n",
       "       1.        , 1.        , 1.        , 1.        , 1.        ,\n",
       "       1.        , 1.        , 1.        , 1.        , 0.99607843,\n",
       "       0.99607843, 0.99607843, 0.98823529, 0.91372549, 0.70980392,\n",
       "       0.58823529, 0.85098039, 0.84313725, 0.62745098, 0.21568627,\n",
       "       0.35686275, 0.74117647, 0.84705882, 0.78431373, 0.45490196,\n",
       "       0.78039216, 0.68627451, 0.87843137, 0.98039216, 0.99607843,\n",
       "       1.        , 1.        , 1.        , 1.        , 1.        ,\n",
       "       1.        , 1.        , 1.        , 1.        , 1.        ,\n",
       "       0.99607843, 0.99215686, 0.96078431, 0.85882353, 0.55686275,\n",
       "       0.80392157, 0.58039216, 0.2627451 , 0.05098039, 0.00784314,\n",
       "       0.01960784, 0.45098039, 0.84705882, 0.84705882, 0.63921569,\n",
       "       0.69803922, 0.7254902 , 0.77647059, 0.93333333, 0.99215686,\n",
       "       0.99607843, 1.        , 1.        , 1.        , 1.        ,\n",
       "       1.        , 1.        , 1.        , 1.        , 0.99607843,\n",
       "       0.99215686, 0.98039216, 0.89803922, 0.67843137, 0.60392157,\n",
       "       0.75686275, 0.11764706, 0.29803922, 0.05098039, 0.00392157,\n",
       "       0.00784314, 0.25098039, 0.83137255, 0.84705882, 0.83137255,\n",
       "       0.56862745, 0.80784314, 0.69019608, 0.85882353, 0.97647059,\n",
       "       0.99607843, 1.        , 1.        , 0.99607843, 1.        ,\n",
       "       1.        , 1.        , 1.        , 1.        , 0.99607843,\n",
       "       0.99215686, 0.94509804, 0.81568627, 0.50196078, 0.81176471,\n",
       "       0.76078431, 0.21960784, 0.71764706, 0.07058824, 0.00784314,\n",
       "       0.17254902, 0.1372549 , 0.7254902 , 0.85098039, 0.84705882,\n",
       "       0.65882353, 0.64705882, 0.7254902 , 0.74901961, 0.9254902 ,\n",
       "       0.98823529, 1.        , 1.        , 1.        , 1.        ,\n",
       "       1.        , 1.        , 1.        , 1.        , 0.99215686,\n",
       "       0.97647059, 0.88235294, 0.67058824, 0.70196078, 0.84313725,\n",
       "       0.78039216, 0.27843137, 0.61176471, 0.02352941, 0.05098039,\n",
       "       0.62745098, 0.34901961, 0.17647059, 0.52941176, 0.80784314,\n",
       "       0.83137255, 0.5254902 , 0.78431373, 0.68235294, 0.83921569,\n",
       "       0.96470588, 0.99607843, 1.        , 1.        , 1.        ,\n",
       "       1.        , 1.        , 0.99607843, 0.99607843, 0.99215686,\n",
       "       0.94509804, 0.81176471, 0.49803922, 0.82352941, 0.85098039,\n",
       "       0.79215686, 0.36862745, 0.53333333, 0.01176471, 0.12156863,\n",
       "       0.76078431, 0.81176471, 0.67058824, 0.39215686, 0.63529412,\n",
       "       0.85098039, 0.7372549 , 0.65490196, 0.76470588, 0.7254902 ,\n",
       "       0.90588235, 0.98431373, 1.        , 1.        , 1.        ,\n",
       "       0.99607843, 1.        , 0.99607843, 0.99215686, 0.96862745,\n",
       "       0.8745098 , 0.57647059, 0.70588235, 0.85490196, 0.85490196,\n",
       "       0.84313725, 0.8       , 0.65882353, 0.03529412, 0.02745098,\n",
       "       0.40392157, 0.82745098, 0.85098039, 0.84313725, 0.84705882,\n",
       "       0.84705882, 0.83529412, 0.54509804, 0.76470588, 0.6745098 ,\n",
       "       0.81568627, 0.96470588, 0.99215686, 1.        , 1.        ,\n",
       "       1.        , 0.99607843, 0.99607843, 0.98823529, 0.9254902 ,\n",
       "       0.79607843, 0.56862745, 0.84705882, 0.85490196, 0.85098039,\n",
       "       0.85098039, 0.85098039, 0.63921569, 0.03137255, 0.05098039,\n",
       "       0.04313725, 0.60784314, 0.85098039, 0.85098039, 0.84705882,\n",
       "       0.85098039, 0.84705882, 0.76862745, 0.56470588, 0.77647059,\n",
       "       0.71372549, 0.89803922, 0.98039216, 0.99607843, 1.        ,\n",
       "       1.        , 1.        , 0.99607843, 0.96862745, 0.87058824,\n",
       "       0.55686275, 0.74509804, 0.85490196, 0.85098039, 0.85098039,\n",
       "       0.85098039, 0.85098039, 0.51764706, 0.0745098 , 0.53333333,\n",
       "       0.07058824, 0.31764706, 0.83921569, 0.84705882, 0.85098039,\n",
       "       0.85098039, 0.85098039, 0.84705882, 0.62745098, 0.77254902,\n",
       "       0.70980392, 0.79607843, 0.94509804, 0.99215686, 0.99607843,\n",
       "       0.99607843, 1.        , 0.98431373, 0.9254902 , 0.7254902 ,\n",
       "       0.50980392, 0.84705882, 0.85098039, 0.85490196, 0.85490196,\n",
       "       0.85098039, 0.81568627, 0.20784314, 0.21176471, 0.80784314,\n",
       "       0.29411765, 0.13333333, 0.8       , 0.85098039, 0.85490196,\n",
       "       0.85490196, 0.85490196, 0.85098039, 0.77647059, 0.54901961,\n",
       "       0.78431373, 0.67843137, 0.88235294, 0.97647059, 0.99607843,\n",
       "       0.99607843, 0.99215686, 0.95686275, 0.8627451 , 0.55294118,\n",
       "       0.79607843, 0.81568627, 0.83137255, 0.83137255, 0.82352941,\n",
       "       0.84705882, 0.58431373, 0.04313725, 0.51764706, 0.81568627,\n",
       "       0.62352941, 0.07058824, 0.61568627, 0.83921569, 0.82352941,\n",
       "       0.81960784, 0.84313725, 0.81176471, 0.81960784, 0.61176471,\n",
       "       0.69803922, 0.70196078, 0.77254902, 0.93333333, 0.99215686,\n",
       "       0.99215686, 0.98039216, 0.90588235, 0.7372549 , 0.61176471,\n",
       "       0.80392157, 0.54901961, 0.6745098 , 0.67058824, 0.5372549 ,\n",
       "       0.80392157, 0.24705882, 0.10588235, 0.69019608, 0.52941176,\n",
       "       0.6745098 , 0.19607843, 0.18823529, 0.74509804, 0.59215686,\n",
       "       0.59215686, 0.80784314, 0.57647059, 0.6745098 , 0.83137255,\n",
       "       0.58039216, 0.82745098, 0.70196078, 0.86666667, 0.97254902,\n",
       "       0.98431373, 0.95294118, 0.82745098, 0.43137255, 0.79215686,\n",
       "       0.85098039, 0.84705882, 0.85098039, 0.84705882, 0.84705882,\n",
       "       0.74509804, 0.09019608, 0.43921569, 0.84313725, 0.85098039,\n",
       "       0.84705882, 0.41960784, 0.1254902 , 0.78431373, 0.85098039,\n",
       "       0.85098039, 0.85098039, 0.85098039, 0.85098039, 0.85098039,\n",
       "       0.67058824, 0.70588235, 0.73333333, 0.75686275, 0.92156863,\n",
       "       0.97254902, 0.89019608, 0.65882353, 0.67058824, 0.85098039,\n",
       "       0.85098039, 0.85098039, 0.85098039, 0.85098039, 0.85098039,\n",
       "       0.83529412, 0.52941176, 0.78039216, 0.85098039, 0.85098039,\n",
       "       0.85098039, 0.7254902 , 0.6745098 , 0.83921569, 0.85098039,\n",
       "       0.85098039, 0.85098039, 0.85098039, 0.85098039, 0.85098039,\n",
       "       0.82352941, 0.49019608, 0.78039216, 0.6745098 , 0.84313725,\n",
       "       0.94509804, 0.84313725, 0.5372549 , 0.83921569, 0.85098039,\n",
       "       0.81176471, 0.58823529, 0.70196078, 0.70588235, 0.58823529,\n",
       "       0.81176471, 0.65490196, 0.62352941, 0.76470588, 0.54509804,\n",
       "       0.71764706, 0.72941176, 0.56862745, 0.76862745, 0.62745098,\n",
       "       0.62745098, 0.81176471, 0.59215686, 0.69411765, 0.84705882,\n",
       "       0.85098039, 0.76078431, 0.65882353, 0.76078431, 0.74509804,\n",
       "       0.89019608, 0.59215686, 0.6       , 0.77647059, 0.77647059,\n",
       "       0.76862745, 0.71372549, 0.74509804, 0.74117647, 0.71764706,\n",
       "       0.76862745, 0.71764706, 0.70196078, 0.75686275, 0.71764706,\n",
       "       0.74901961, 0.74901961, 0.71764706, 0.76078431, 0.7254902 ,\n",
       "       0.72156863, 0.76470588, 0.71372549, 0.7372549 , 0.77647059,\n",
       "       0.77647059, 0.77254902, 0.54901961, 0.81176471, 0.69411765,\n",
       "       0.85098039, 0.65490196, 0.52156863, 0.52156863, 0.5254902 ,\n",
       "       0.5254902 , 0.52156863, 0.52156863, 0.5254902 , 0.5254902 ,\n",
       "       0.52941176, 0.5254902 , 0.52156863, 0.52156863, 0.52156863,\n",
       "       0.52156863, 0.52156863, 0.52156863, 0.5254902 , 0.52156863,\n",
       "       0.52156863, 0.52156863, 0.5254902 , 0.5254902 , 0.52156863,\n",
       "       0.52156863, 0.52941176, 0.55294118, 0.82352941, 0.73333333,\n",
       "       0.83921569, 0.76470588, 0.71372549, 0.69803922, 0.69803922,\n",
       "       0.69411765, 0.69411765, 0.69411765, 0.69803922, 0.69411765,\n",
       "       0.69411765, 0.69411765, 0.69411765, 0.69411765, 0.69411765,\n",
       "       0.69411765, 0.69411765, 0.69411765, 0.69411765, 0.69411765,\n",
       "       0.69411765, 0.69411765, 0.69411765, 0.69411765, 0.69411765,\n",
       "       0.69803922, 0.69803922, 0.69803922, 0.69411765, 0.61960784,\n",
       "       0.85882353, 0.72156863, 0.62745098, 0.59607843, 0.6       ,\n",
       "       0.6       , 0.60392157, 0.60392157, 0.60392157, 0.60392157,\n",
       "       0.60392157, 0.60392157, 0.60392157, 0.60392157, 0.60392157,\n",
       "       0.60392157, 0.60392157, 0.60392157, 0.60392157, 0.60784314,\n",
       "       0.60392157, 0.60392157, 0.60392157, 0.60392157, 0.60392157,\n",
       "       0.60784314, 0.60392157, 0.6       , 0.61176471, 0.67843137,\n",
       "       0.94901961, 0.90196078, 0.86666667, 0.85098039, 0.84705882,\n",
       "       0.85490196, 0.85098039, 0.85098039, 0.85098039, 0.85098039,\n",
       "       0.85098039, 0.85098039, 0.85098039, 0.85098039, 0.85098039,\n",
       "       0.85098039, 0.85098039, 0.85098039, 0.85098039, 0.85098039,\n",
       "       0.85098039, 0.85098039, 0.85098039, 0.84705882, 0.85098039,\n",
       "       0.85098039, 0.85098039, 0.85098039, 0.85882353, 0.88235294])"
      ]
     },
     "execution_count": 128,
     "metadata": {},
     "output_type": "execute_result"
    }
   ],
   "source": [
    "t_inp[0]"
   ]
  },
  {
   "cell_type": "code",
   "execution_count": 129,
   "metadata": {
    "scrolled": true
   },
   "outputs": [
    {
     "ename": "TypeError",
     "evalue": "feedforward() takes 1 positional argument but 3 were given",
     "output_type": "error",
     "traceback": [
      "\u001b[0;31m---------------------------------------------------------------------------\u001b[0m",
      "\u001b[0;31mTypeError\u001b[0m                                 Traceback (most recent call last)",
      "\u001b[0;32m<ipython-input-129-92f11d6207ae>\u001b[0m in \u001b[0;36m<module>\u001b[0;34m()\u001b[0m\n\u001b[0;32m----> 1\u001b[0;31m \u001b[0mnn\u001b[0m\u001b[0;34m.\u001b[0m\u001b[0mfeedforward\u001b[0m\u001b[0;34m(\u001b[0m\u001b[0mt_inp\u001b[0m\u001b[0;34m[\u001b[0m\u001b[0;36m0\u001b[0m\u001b[0;34m]\u001b[0m\u001b[0;34m,\u001b[0m\u001b[0marr\u001b[0m\u001b[0;34m[\u001b[0m\u001b[0;36m0\u001b[0m\u001b[0;34m]\u001b[0m\u001b[0;34m)\u001b[0m\u001b[0;34m\u001b[0m\u001b[0;34m\u001b[0m\u001b[0m\n\u001b[0m",
      "\u001b[0;31mTypeError\u001b[0m: feedforward() takes 1 positional argument but 3 were given"
     ]
    }
   ],
   "source": [
    "nn.feedforward(t_inp[0],arr[0])"
   ]
  },
  {
   "cell_type": "code",
   "execution_count": 71,
   "metadata": {},
   "outputs": [
    {
     "data": {
      "text/plain": [
       "array([14, 13])"
      ]
     },
     "execution_count": 71,
     "metadata": {},
     "output_type": "execute_result"
    }
   ],
   "source": [
    "np.dot(l1.T,[1,2])"
   ]
  },
  {
   "cell_type": "code",
   "execution_count": 65,
   "metadata": {},
   "outputs": [
    {
     "data": {
      "text/plain": [
       "array([[20, 25],\n",
       "       [25, 20]])"
      ]
     },
     "execution_count": 65,
     "metadata": {},
     "output_type": "execute_result"
    }
   ],
   "source": [
    "d"
   ]
  },
  {
   "cell_type": "code",
   "execution_count": 57,
   "metadata": {},
   "outputs": [
    {
     "data": {
      "text/plain": [
       "array([[37, 40,  4],\n",
       "       [37, 40,  4]])"
      ]
     },
     "execution_count": 57,
     "metadata": {},
     "output_type": "execute_result"
    }
   ],
   "source": [
    "a = np.array([[1,2],[1,2]]) \n",
    "b = np.array([[11,12,2],[13,14,1]]) \n",
    "np.dot(a,b)"
   ]
  }
 ],
 "metadata": {
  "kernelspec": {
   "display_name": "Python 3",
   "language": "python",
   "name": "python3"
  },
  "language_info": {
   "codemirror_mode": {
    "name": "ipython",
    "version": 3
   },
   "file_extension": ".py",
   "mimetype": "text/x-python",
   "name": "python",
   "nbconvert_exporter": "python",
   "pygments_lexer": "ipython3",
   "version": "3.7.3"
  }
 },
 "nbformat": 4,
 "nbformat_minor": 2
}
