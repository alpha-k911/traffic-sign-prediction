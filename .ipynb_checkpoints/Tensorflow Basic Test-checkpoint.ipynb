{
 "cells": [
  {
   "cell_type": "code",
   "execution_count": 110,
   "metadata": {},
   "outputs": [],
   "source": [
    "import cv2\n",
    "from matplotlib import pyplot as plt\n",
    "import os\n",
    "import numpy as np\n",
    "import keras\n",
    "import tensorflow as tf"
   ]
  },
  {
   "cell_type": "code",
   "execution_count": 2,
   "metadata": {},
   "outputs": [],
   "source": [
    "from sklearn.preprocessing import LabelBinarizer\n",
    "import matplotlib.pyplot as plt\n",
    "%matplotlib inline\n",
    "def load_dataset(flatten=False):\n",
    "    (X_train, y_train), (X_test, y_test) = keras.datasets.mnist.load_data()\n",
    "    # normalize x\n",
    "    X_train = X_train.astype(float) / 255.\n",
    "    X_test = X_test.astype(float) / 255.\n",
    "    # we reserve the last 10000 training examples for validation\n",
    "    X_train, X_val = X_train[:-10000], X_train[-10000:]\n",
    "    y_train, y_val = y_train[:-10000], y_train[-10000:]\n",
    "    if flatten:\n",
    "        X_train = X_train.reshape([X_train.shape[0], -1])\n",
    "        X_val = X_val.reshape([X_val.shape[0], -1])\n",
    "        X_test = X_test.reshape([X_test.shape[0], -1])\n",
    "    return X_train, y_train, X_val, y_val, X_test, y_test"
   ]
  },
  {
   "cell_type": "code",
   "execution_count": 3,
   "metadata": {},
   "outputs": [],
   "source": [
    "a = [1,2,3,4]"
   ]
  },
  {
   "cell_type": "code",
   "execution_count": 190,
   "metadata": {},
   "outputs": [],
   "source": [
    "classes = 17"
   ]
  },
  {
   "cell_type": "code",
   "execution_count": 84,
   "metadata": {},
   "outputs": [],
   "source": [
    "def get_im(path):\n",
    "    # Load as grayscale\n",
    "    img = cv2.imread(path, 0)\n",
    "    return img"
   ]
  },
  {
   "cell_type": "code",
   "execution_count": 60,
   "metadata": {},
   "outputs": [],
   "source": [
    "# to show image\n",
    "def show_img(img):\n",
    "    plt.imshow(img, cmap = 'gray', interpolation = 'bicubic')\n",
    "#     plt.xticks([]), plt.yticks([])  # to hide tick values on X and Y axis\n",
    "    plt.show()"
   ]
  },
  {
   "cell_type": "code",
   "execution_count": 192,
   "metadata": {},
   "outputs": [],
   "source": [
    "def load_train():\n",
    "    X_train = []\n",
    "    y_train = []\n",
    "    print('Reading train images')\n",
    "    p = \"/root/alpha/git/mine/tensor/train\"\n",
    "    for j in range(1,classes):\n",
    "        print('Load folder c{}'.format(j))\n",
    "        path = os.path.join(p , str(j)+\"/*\")\n",
    "        files = glob.glob(path)\n",
    "        for fl in files:\n",
    "            img = get_im(fl)\n",
    "            X_train.append(img)\n",
    "            y_train.append(j-1)\n",
    "\n",
    "    return X_train, y_train"
   ]
  },
  {
   "cell_type": "code",
   "execution_count": 191,
   "metadata": {},
   "outputs": [],
   "source": [
    "def load_test():\n",
    "    X_train = []\n",
    "    y_train = []\n",
    "    print('Reading train images')\n",
    "    p = \"/root/alpha/git/mine/tensor/test\"\n",
    "    for j in range(1,classes):\n",
    "        print('Load folder c{}'.format(j))\n",
    "        path = os.path.join(p , str(j)+\"t/*\")\n",
    "        files = glob.glob(path)\n",
    "        for fl in files:\n",
    "            img = get_im(fl)\n",
    "            X_train.append(img)\n",
    "            y_train.append(j-1)\n",
    "\n",
    "    return X_train, y_train"
   ]
  },
  {
   "cell_type": "code",
   "execution_count": 341,
   "metadata": {
    "scrolled": false
   },
   "outputs": [
    {
     "name": "stdout",
     "output_type": "stream",
     "text": [
      "Reading train images\n",
      "Load folder c1\n",
      "Load folder c2\n",
      "Load folder c3\n",
      "Load folder c4\n",
      "Load folder c5\n",
      "Load folder c6\n",
      "Load folder c7\n",
      "Load folder c8\n",
      "Load folder c9\n",
      "Load folder c10\n",
      "Load folder c11\n",
      "Load folder c12\n",
      "Load folder c13\n",
      "Load folder c14\n",
      "Load folder c15\n",
      "Load folder c16\n"
     ]
    }
   ],
   "source": [
    "x,y = load_train()"
   ]
  },
  {
   "cell_type": "code",
   "execution_count": 340,
   "metadata": {},
   "outputs": [
    {
     "name": "stdout",
     "output_type": "stream",
     "text": [
      "Reading train images\n",
      "Load folder c1\n",
      "Load folder c2\n",
      "Load folder c3\n",
      "Load folder c4\n",
      "Load folder c5\n",
      "Load folder c6\n",
      "Load folder c7\n",
      "Load folder c8\n",
      "Load folder c9\n",
      "Load folder c10\n",
      "Load folder c11\n",
      "Load folder c12\n",
      "Load folder c13\n",
      "Load folder c14\n",
      "Load folder c15\n",
      "Load folder c16\n"
     ]
    }
   ],
   "source": [
    "tx , ty = load_test()"
   ]
  },
  {
   "cell_type": "code",
   "execution_count": 343,
   "metadata": {
    "scrolled": true
   },
   "outputs": [
    {
     "data": {
      "text/plain": [
       "array([[[255, 255, 255, ..., 255, 255, 255],\n",
       "        [255, 255, 255, ..., 255, 255, 255],\n",
       "        [255, 255, 255, ..., 255, 255, 255],\n",
       "        ...,\n",
       "        [214, 195, 182, ..., 178, 177, 158],\n",
       "        [219, 184, 160, ..., 153, 156, 173],\n",
       "        [242, 230, 221, ..., 217, 219, 225]],\n",
       "\n",
       "       [[255, 255, 255, ..., 255, 255, 255],\n",
       "        [255, 255, 255, ..., 255, 255, 255],\n",
       "        [255, 255, 255, ..., 255, 255, 255],\n",
       "        ...,\n",
       "        [186, 127, 163, ..., 159, 127, 210],\n",
       "        [209, 201, 200, ..., 200, 207, 209],\n",
       "        [247, 247, 247, ..., 247, 247, 246]],\n",
       "\n",
       "       [[255, 255, 255, ..., 255, 255, 255],\n",
       "        [255, 255, 255, ..., 255, 255, 255],\n",
       "        [255, 255, 255, ..., 255, 255, 255],\n",
       "        ...,\n",
       "        [214, 195, 182, ..., 178, 177, 158],\n",
       "        [219, 184, 160, ..., 153, 156, 173],\n",
       "        [242, 230, 221, ..., 217, 219, 225]],\n",
       "\n",
       "       ...,\n",
       "\n",
       "       [[188, 185, 195, ..., 218, 216, 214],\n",
       "        [163, 168, 186, ..., 216, 215, 214],\n",
       "        [163, 140, 144, ..., 214, 213, 213],\n",
       "        ...,\n",
       "        [127, 168, 154, ..., 148, 142,  83],\n",
       "        [126, 148, 149, ..., 135, 131, 104],\n",
       "        [ 60,  62,  63, ...,  62,  70,  56]],\n",
       "\n",
       "       [[161, 162, 161, ...,  99, 105,  66],\n",
       "        [160, 155, 112, ..., 141, 142,  85],\n",
       "        [163, 130,  77, ..., 142, 143,  84],\n",
       "        ...,\n",
       "        [ 44, 122, 126, ..., 108, 100,  66],\n",
       "        [ 91,  74,  76, ...,  98, 100, 135],\n",
       "        [135, 121, 118, ...,  97,  95,  98]],\n",
       "\n",
       "       [[117, 117, 127, ..., 183, 191, 194],\n",
       "        [116, 117, 131, ..., 165, 153, 158],\n",
       "        [115, 123, 161, ..., 203, 150, 123],\n",
       "        ...,\n",
       "        [115, 149, 174, ..., 194, 138, 103],\n",
       "        [111, 142, 187, ..., 194, 129, 103],\n",
       "        [112, 120, 165, ..., 164, 123, 115]]], dtype=uint8)"
      ]
     },
     "execution_count": 343,
     "metadata": {},
     "output_type": "execute_result"
    }
   ],
   "source": [
    "x = np.array(x)\n",
    "y = np.array(y)\n",
    "ty = np.array(ty)\n",
    "tx = np.array(tx)\n",
    "x = x.astype(float) / 255.\n",
    "tx = tx.astype(float) / 255."
   ]
  },
  {
   "cell_type": "code",
   "execution_count": 349,
   "metadata": {},
   "outputs": [
    {
     "data": {
      "text/plain": [
       "array([ 0,  0,  0,  0,  0,  1,  1,  1,  1,  1,  2,  2,  2,  2,  2,  3,  3,\n",
       "        3,  3,  3,  4,  4,  4,  4,  4,  5,  5,  5,  5,  5,  6,  6,  6,  6,\n",
       "        6,  7,  7,  7,  7,  7,  8,  8,  8,  8,  8,  9,  9,  9,  9,  9, 10,\n",
       "       10, 10, 10, 10, 11, 11, 11, 11, 11, 12, 12, 12, 12, 12, 13, 13, 13,\n",
       "       13, 13, 14, 14, 14, 14, 14, 15, 15, 15, 15, 15])"
      ]
     },
     "execution_count": 349,
     "metadata": {},
     "output_type": "execute_result"
    }
   ],
   "source": [
    "ty"
   ]
  },
  {
   "cell_type": "code",
   "execution_count": 332,
   "metadata": {
    "scrolled": true
   },
   "outputs": [
    {
     "data": {
      "image/png": "[encoded data removed]",
      "text/plain": [
       "<Figure size 432x288 with 1 Axes>"
      ]
     },
     "metadata": {},
     "output_type": "display_data"
    },
    {
     "data": {
      "text/plain": [
       "270"
      ]
     },
     "execution_count": 332,
     "metadata": {},
     "output_type": "execute_result"
    }
   ],
   "source": [
    "show_img(tx[77])\n",
    "len(x)"
   ]
  },
  {
   "cell_type": "code",
   "execution_count": 310,
   "metadata": {
    "scrolled": false
   },
   "outputs": [
    {
     "data": {
      "image/png": "[encoded data removed]",
      "text/plain": [
       "<Figure size 432x288 with 2 Axes>"
      ]
     },
     "metadata": {
      "needs_background": "light"
     },
     "output_type": "display_data"
    }
   ],
   "source": [
    "plt.figure()\n",
    "plt.imshow(tx[50])\n",
    "plt.colorbar()\n",
    "plt.grid(False)\n",
    "plt.show()"
   ]
  },
  {
   "cell_type": "code",
   "execution_count": 312,
   "metadata": {},
   "outputs": [
    {
     "data": {
      "image/png": "[encoded data removed]",
      "text/plain": [
       "<Figure size 720x720 with 25 Axes>"
      ]
     },
     "metadata": {},
     "output_type": "display_data"
    }
   ],
   "source": [
    "plt.figure(figsize=(10,10))\n",
    "for i in range(25):\n",
    "    plt.subplot(5,5,i+1)\n",
    "    plt.xticks([])\n",
    "    plt.yticks([])\n",
    "    plt.grid(False)\n",
    "    plt.imshow(x[(i+1)*10], cmap=plt.cm.binary)\n",
    "#     plt.xlabel(class_names[x[i]])\n",
    "plt.show()"
   ]
  },
  {
   "cell_type": "code",
   "execution_count": 200,
   "metadata": {},
   "outputs": [
    {
     "data": {
      "text/plain": [
       "(270, 30, 30)"
      ]
     },
     "execution_count": 200,
     "metadata": {},
     "output_type": "execute_result"
    }
   ],
   "source": [
    "x.shape"
   ]
  },
  {
   "cell_type": "code",
   "execution_count": null,
   "metadata": {},
   "outputs": [],
   "source": []
  },
  {
   "cell_type": "code",
   "execution_count": 109,
   "metadata": {
    "scrolled": true
   },
   "outputs": [],
   "source": [
    "# shaped_x = x.reshape(316,900).astype(\"float32\")\n"
   ]
  },
  {
   "cell_type": "code",
   "execution_count": 370,
   "metadata": {},
   "outputs": [],
   "source": [
    "model = keras.Sequential([\n",
    "    keras.layers.Flatten(input_shape=(30,30)),\n",
    "    keras.layers.Dense(512, activation=tf.nn.relu),\n",
    "    keras.layers.Dense(256, activation=tf.nn.relu),\n",
    "    keras.layers.Dense(16, activation=tf.nn.softmax)\n",
    "])"
   ]
  },
  {
   "cell_type": "code",
   "execution_count": 371,
   "metadata": {},
   "outputs": [],
   "source": [
    "model.compile(optimizer='adam',\n",
    "              loss='sparse_categorical_crossentropy',\n",
    "              metrics=['accuracy'])"
   ]
  },
  {
   "cell_type": "code",
   "execution_count": 372,
   "metadata": {
    "scrolled": true
   },
   "outputs": [
    {
     "name": "stdout",
     "output_type": "stream",
     "text": [
      "Epoch 1/25\n",
      "270/270 [==============================] - 0s 672us/step - loss: 2.8412 - accuracy: 0.1111\n",
      "Epoch 2/25\n",
      "270/270 [==============================] - 0s 197us/step - loss: 2.3386 - accuracy: 0.3037\n",
      "Epoch 3/25\n",
      "270/270 [==============================] - 0s 222us/step - loss: 1.9435 - accuracy: 0.5074\n",
      "Epoch 4/25\n",
      "270/270 [==============================] - 0s 193us/step - loss: 1.6673 - accuracy: 0.5519\n",
      "Epoch 5/25\n",
      "270/270 [==============================] - 0s 230us/step - loss: 1.3783 - accuracy: 0.6333\n",
      "Epoch 6/25\n",
      "270/270 [==============================] - 0s 245us/step - loss: 1.1790 - accuracy: 0.6852\n",
      "Epoch 7/25\n",
      "270/270 [==============================] - 0s 238us/step - loss: 1.0070 - accuracy: 0.7556\n",
      "Epoch 8/25\n",
      "270/270 [==============================] - 0s 217us/step - loss: 0.9262 - accuracy: 0.7593\n",
      "Epoch 9/25\n",
      "270/270 [==============================] - 0s 213us/step - loss: 0.7617 - accuracy: 0.7889\n",
      "Epoch 10/25\n",
      "270/270 [==============================] - 0s 229us/step - loss: 0.6523 - accuracy: 0.8519\n",
      "Epoch 11/25\n",
      "270/270 [==============================] - 0s 254us/step - loss: 0.5859 - accuracy: 0.8556\n",
      "Epoch 12/25\n",
      "270/270 [==============================] - 0s 212us/step - loss: 0.5354 - accuracy: 0.8741\n",
      "Epoch 13/25\n",
      "270/270 [==============================] - 0s 197us/step - loss: 0.5332 - accuracy: 0.8704\n",
      "Epoch 14/25\n",
      "270/270 [==============================] - 0s 206us/step - loss: 0.4028 - accuracy: 0.9333\n",
      "Epoch 15/25\n",
      "270/270 [==============================] - 0s 224us/step - loss: 0.4584 - accuracy: 0.8741\n",
      "Epoch 16/25\n",
      "270/270 [==============================] - 0s 218us/step - loss: 0.3561 - accuracy: 0.9185\n",
      "Epoch 17/25\n",
      "270/270 [==============================] - 0s 216us/step - loss: 0.3059 - accuracy: 0.9481\n",
      "Epoch 18/25\n",
      "270/270 [==============================] - 0s 216us/step - loss: 0.3329 - accuracy: 0.9000\n",
      "Epoch 19/25\n",
      "270/270 [==============================] - 0s 257us/step - loss: 0.2825 - accuracy: 0.9444\n",
      "Epoch 20/25\n",
      "270/270 [==============================] - 0s 228us/step - loss: 0.2784 - accuracy: 0.9296\n",
      "Epoch 21/25\n",
      "270/270 [==============================] - 0s 288us/step - loss: 0.2013 - accuracy: 0.9593\n",
      "Epoch 22/25\n",
      "270/270 [==============================] - 0s 249us/step - loss: 0.1746 - accuracy: 0.9704\n",
      "Epoch 23/25\n",
      "270/270 [==============================] - 0s 232us/step - loss: 0.1311 - accuracy: 0.9926\n",
      "Epoch 24/25\n",
      "270/270 [==============================] - 0s 218us/step - loss: 0.1118 - accuracy: 0.9889\n",
      "Epoch 25/25\n",
      "270/270 [==============================] - 0s 208us/step - loss: 0.0916 - accuracy: 0.9926\n"
     ]
    },
    {
     "data": {
      "text/plain": [
       "<keras.callbacks.callbacks.History at 0x7f84067745c0>"
      ]
     },
     "execution_count": 372,
     "metadata": {},
     "output_type": "execute_result"
    }
   ],
   "source": [
    "model.fit(x, y, epochs=25)"
   ]
  },
  {
   "cell_type": "code",
   "execution_count": 373,
   "metadata": {
    "scrolled": true
   },
   "outputs": [
    {
     "name": "stdout",
     "output_type": "stream",
     "text": [
      "80/80 [==============================] - 0s 1ms/step\n",
      "Test accuracy: 0.75\n"
     ]
    }
   ],
   "source": [
    "test_loss, test_acc = model.evaluate(tx, ty)\n",
    "\n",
    "print('Test accuracy:', test_acc)"
   ]
  },
  {
   "cell_type": "code",
   "execution_count": 374,
   "metadata": {
    "scrolled": true
   },
   "outputs": [
    {
     "data": {
      "text/plain": [
       "80"
      ]
     },
     "execution_count": 374,
     "metadata": {},
     "output_type": "execute_result"
    }
   ],
   "source": [
    "predictions = model.predict(tx)\n",
    "len(predictions)"
   ]
  },
  {
   "cell_type": "code",
   "execution_count": 375,
   "metadata": {
    "scrolled": true
   },
   "outputs": [
    {
     "data": {
      "text/plain": [
       "9"
      ]
     },
     "execution_count": 375,
     "metadata": {},
     "output_type": "execute_result"
    }
   ],
   "source": [
    "np.argmax(predictions[49])"
   ]
  },
  {
   "cell_type": "code",
   "execution_count": 360,
   "metadata": {
    "scrolled": true
   },
   "outputs": [
    {
     "data": {
      "text/plain": [
       "9"
      ]
     },
     "execution_count": 360,
     "metadata": {},
     "output_type": "execute_result"
    }
   ],
   "source": [
    "ty[49]"
   ]
  },
  {
   "cell_type": "code",
   "execution_count": 376,
   "metadata": {},
   "outputs": [
    {
     "name": "stdout",
     "output_type": "stream",
     "text": [
      "0 >>> 0 for index:0\n",
      "0 >>> 0 for index:1\n",
      "0 >>> 0 for index:2\n",
      "0 >>> 0 for index:3\n",
      "0 >>> 0 for index:4\n",
      "1 >>> 1 for index:5\n",
      "1 >>> 1 for index:6\n",
      "1 >>> 7 for index:7\n",
      "1 >>> 1 for index:8\n",
      "1 >>> 1 for index:9\n",
      "2 >>> 10 for index:10\n",
      "2 >>> 8 for index:11\n",
      "2 >>> 10 for index:12\n",
      "2 >>> 2 for index:13\n",
      "2 >>> 10 for index:14\n",
      "3 >>> 3 for index:15\n",
      "3 >>> 3 for index:16\n",
      "3 >>> 10 for index:17\n",
      "3 >>> 3 for index:18\n",
      "3 >>> 3 for index:19\n",
      "4 >>> 4 for index:20\n",
      "4 >>> 4 for index:21\n",
      "4 >>> 4 for index:22\n",
      "4 >>> 4 for index:23\n",
      "4 >>> 9 for index:24\n",
      "5 >>> 5 for index:25\n",
      "5 >>> 5 for index:26\n",
      "5 >>> 5 for index:27\n",
      "5 >>> 5 for index:28\n",
      "5 >>> 5 for index:29\n",
      "6 >>> 10 for index:30\n",
      "6 >>> 6 for index:31\n",
      "6 >>> 6 for index:32\n",
      "6 >>> 3 for index:33\n",
      "6 >>> 3 for index:34\n",
      "7 >>> 10 for index:35\n",
      "7 >>> 7 for index:36\n",
      "7 >>> 2 for index:37\n",
      "7 >>> 7 for index:38\n",
      "7 >>> 7 for index:39\n",
      "8 >>> 8 for index:40\n",
      "8 >>> 8 for index:41\n",
      "8 >>> 8 for index:42\n",
      "8 >>> 8 for index:43\n",
      "8 >>> 8 for index:44\n",
      "9 >>> 9 for index:45\n",
      "9 >>> 9 for index:46\n",
      "9 >>> 9 for index:47\n",
      "9 >>> 10 for index:48\n",
      "9 >>> 9 for index:49\n",
      "10 >>> 10 for index:50\n",
      "10 >>> 10 for index:51\n",
      "10 >>> 10 for index:52\n",
      "10 >>> 10 for index:53\n",
      "10 >>> 10 for index:54\n",
      "11 >>> 13 for index:55\n",
      "11 >>> 11 for index:56\n",
      "11 >>> 10 for index:57\n",
      "11 >>> 11 for index:58\n",
      "11 >>> 11 for index:59\n",
      "12 >>> 12 for index:60\n",
      "12 >>> 12 for index:61\n",
      "12 >>> 12 for index:62\n",
      "12 >>> 12 for index:63\n",
      "12 >>> 12 for index:64\n",
      "13 >>> 13 for index:65\n",
      "13 >>> 13 for index:66\n",
      "13 >>> 0 for index:67\n",
      "13 >>> 13 for index:68\n",
      "13 >>> 15 for index:69\n",
      "14 >>> 11 for index:70\n",
      "14 >>> 14 for index:71\n",
      "14 >>> 13 for index:72\n",
      "14 >>> 14 for index:73\n",
      "14 >>> 14 for index:74\n",
      "15 >>> 15 for index:75\n",
      "15 >>> 15 for index:76\n",
      "15 >>> 15 for index:77\n",
      "15 >>> 15 for index:78\n",
      "15 >>> 5 for index:79\n"
     ]
    }
   ],
   "source": [
    "for i in range(0,80):\n",
    "    print(str(ty[i])+\" >>> \"+str(np.argmax(predictions[i]))+\" for index:\" + str(i))"
   ]
  }
 ],
 "metadata": {
  "kernelspec": {
   "display_name": "Python 3",
   "language": "python",
   "name": "python3"
  },
  "language_info": {
   "codemirror_mode": {
    "name": "ipython",
    "version": 3
   },
   "file_extension": ".py",
   "mimetype": "text/x-python",
   "name": "python",
   "nbconvert_exporter": "python",
   "pygments_lexer": "ipython3",
   "version": "3.7.3"
  }
 },
 "nbformat": 4,
 "nbformat_minor": 2
}
